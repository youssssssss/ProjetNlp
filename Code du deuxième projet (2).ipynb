{
  "metadata": {
    "kernelspec": {
      "name": "python3",
      "display_name": "Python 3",
      "language": "python"
    },
    "language_info": {
      "name": "python",
      "version": "3.10.12",
      "mimetype": "text/x-python",
      "codemirror_mode": {
        "name": "ipython",
        "version": 3
      },
      "pygments_lexer": "ipython3",
      "nbconvert_exporter": "python",
      "file_extension": ".py"
    },
    "kaggle": {
      "accelerator": "gpu",
      "dataSources": [
        {
          "sourceId": 10271396,
          "sourceType": "datasetVersion",
          "datasetId": 6355151
        }
      ],
      "dockerImageVersionId": 30822,
      "isInternetEnabled": true,
      "language": "python",
      "sourceType": "notebook",
      "isGpuEnabled": true
    },
    "papermill": {
      "default_parameters": {},
      "duration": 15566.466365,
      "end_time": "2024-12-17T22:40:17.648126",
      "environment_variables": {},
      "exception": true,
      "input_path": "__notebook__.ipynb",
      "output_path": "__notebook__.ipynb",
      "parameters": {},
      "start_time": "2024-12-17T18:20:51.181761",
      "version": "2.6.0"
    },
    "widgets": {
      "application/vnd.jupyter.widget-state+json": {
        "66046ba65331403b9ea4b79b1cbc0c01": {
          "model_module": "@jupyter-widgets/controls",
          "model_name": "HBoxModel",
          "model_module_version": "1.5.0",
          "state": {
            "_dom_classes": [],
            "_model_module": "@jupyter-widgets/controls",
            "_model_module_version": "1.5.0",
            "_model_name": "HBoxModel",
            "_view_count": null,
            "_view_module": "@jupyter-widgets/controls",
            "_view_module_version": "1.5.0",
            "_view_name": "HBoxView",
            "box_style": "",
            "children": [
              "IPY_MODEL_ac6d1c76d2b54fcfaaa37eb43f01fceb",
              "IPY_MODEL_c6f0c83b25304f10bbc956a12972f73f",
              "IPY_MODEL_48c806d4ae294e34995d6ff93af544d6"
            ],
            "layout": "IPY_MODEL_4786f9ce9831446197d75251c28c047f"
          }
        },
        "ac6d1c76d2b54fcfaaa37eb43f01fceb": {
          "model_module": "@jupyter-widgets/controls",
          "model_name": "HTMLModel",
          "model_module_version": "1.5.0",
          "state": {
            "_dom_classes": [],
            "_model_module": "@jupyter-widgets/controls",
            "_model_module_version": "1.5.0",
            "_model_name": "HTMLModel",
            "_view_count": null,
            "_view_module": "@jupyter-widgets/controls",
            "_view_module_version": "1.5.0",
            "_view_name": "HTMLView",
            "description": "",
            "description_tooltip": null,
            "layout": "IPY_MODEL_44ee8099c8774491ac3e85e8ac33f32f",
            "placeholder": "​",
            "style": "IPY_MODEL_3fddc0b9f3a54396a29650b2a01901a3",
            "value": "tokenizer_config.json: 100%"
          }
        },
        "c6f0c83b25304f10bbc956a12972f73f": {
          "model_module": "@jupyter-widgets/controls",
          "model_name": "FloatProgressModel",
          "model_module_version": "1.5.0",
          "state": {
            "_dom_classes": [],
            "_model_module": "@jupyter-widgets/controls",
            "_model_module_version": "1.5.0",
            "_model_name": "FloatProgressModel",
            "_view_count": null,
            "_view_module": "@jupyter-widgets/controls",
            "_view_module_version": "1.5.0",
            "_view_name": "ProgressView",
            "bar_style": "success",
            "description": "",
            "description_tooltip": null,
            "layout": "IPY_MODEL_be46d1802ef84d6cad0c10a701182196",
            "max": 611,
            "min": 0,
            "orientation": "horizontal",
            "style": "IPY_MODEL_f5e16dc433ed41ceaf4346b6ee4bafc8",
            "value": 611
          }
        },
        "48c806d4ae294e34995d6ff93af544d6": {
          "model_module": "@jupyter-widgets/controls",
          "model_name": "HTMLModel",
          "model_module_version": "1.5.0",
          "state": {
            "_dom_classes": [],
            "_model_module": "@jupyter-widgets/controls",
            "_model_module_version": "1.5.0",
            "_model_name": "HTMLModel",
            "_view_count": null,
            "_view_module": "@jupyter-widgets/controls",
            "_view_module_version": "1.5.0",
            "_view_name": "HTMLView",
            "description": "",
            "description_tooltip": null,
            "layout": "IPY_MODEL_286d565a8127435fa620a38e322d2eab",
            "placeholder": "​",
            "style": "IPY_MODEL_409040db3a7a4476acdb549641029e05",
            "value": " 611/611 [00:00&lt;00:00, 36.0kB/s]"
          }
        },
        "4786f9ce9831446197d75251c28c047f": {
          "model_module": "@jupyter-widgets/base",
          "model_name": "LayoutModel",
          "model_module_version": "1.2.0",
          "state": {
            "_model_module": "@jupyter-widgets/base",
            "_model_module_version": "1.2.0",
            "_model_name": "LayoutModel",
            "_view_count": null,
            "_view_module": "@jupyter-widgets/base",
            "_view_module_version": "1.2.0",
            "_view_name": "LayoutView",
            "align_content": null,
            "align_items": null,
            "align_self": null,
            "border": null,
            "bottom": null,
            "display": null,
            "flex": null,
            "flex_flow": null,
            "grid_area": null,
            "grid_auto_columns": null,
            "grid_auto_flow": null,
            "grid_auto_rows": null,
            "grid_column": null,
            "grid_gap": null,
            "grid_row": null,
            "grid_template_areas": null,
            "grid_template_columns": null,
            "grid_template_rows": null,
            "height": null,
            "justify_content": null,
            "justify_items": null,
            "left": null,
            "margin": null,
            "max_height": null,
            "max_width": null,
            "min_height": null,
            "min_width": null,
            "object_fit": null,
            "object_position": null,
            "order": null,
            "overflow": null,
            "overflow_x": null,
            "overflow_y": null,
            "padding": null,
            "right": null,
            "top": null,
            "visibility": null,
            "width": null
          }
        },
        "44ee8099c8774491ac3e85e8ac33f32f": {
          "model_module": "@jupyter-widgets/base",
          "model_name": "LayoutModel",
          "model_module_version": "1.2.0",
          "state": {
            "_model_module": "@jupyter-widgets/base",
            "_model_module_version": "1.2.0",
            "_model_name": "LayoutModel",
            "_view_count": null,
            "_view_module": "@jupyter-widgets/base",
            "_view_module_version": "1.2.0",
            "_view_name": "LayoutView",
            "align_content": null,
            "align_items": null,
            "align_self": null,
            "border": null,
            "bottom": null,
            "display": null,
            "flex": null,
            "flex_flow": null,
            "grid_area": null,
            "grid_auto_columns": null,
            "grid_auto_flow": null,
            "grid_auto_rows": null,
            "grid_column": null,
            "grid_gap": null,
            "grid_row": null,
            "grid_template_areas": null,
            "grid_template_columns": null,
            "grid_template_rows": null,
            "height": null,
            "justify_content": null,
            "justify_items": null,
            "left": null,
            "margin": null,
            "max_height": null,
            "max_width": null,
            "min_height": null,
            "min_width": null,
            "object_fit": null,
            "object_position": null,
            "order": null,
            "overflow": null,
            "overflow_x": null,
            "overflow_y": null,
            "padding": null,
            "right": null,
            "top": null,
            "visibility": null,
            "width": null
          }
        },
        "3fddc0b9f3a54396a29650b2a01901a3": {
          "model_module": "@jupyter-widgets/controls",
          "model_name": "DescriptionStyleModel",
          "model_module_version": "1.5.0",
          "state": {
            "_model_module": "@jupyter-widgets/controls",
            "_model_module_version": "1.5.0",
            "_model_name": "DescriptionStyleModel",
            "_view_count": null,
            "_view_module": "@jupyter-widgets/base",
            "_view_module_version": "1.2.0",
            "_view_name": "StyleView",
            "description_width": ""
          }
        },
        "be46d1802ef84d6cad0c10a701182196": {
          "model_module": "@jupyter-widgets/base",
          "model_name": "LayoutModel",
          "model_module_version": "1.2.0",
          "state": {
            "_model_module": "@jupyter-widgets/base",
            "_model_module_version": "1.2.0",
            "_model_name": "LayoutModel",
            "_view_count": null,
            "_view_module": "@jupyter-widgets/base",
            "_view_module_version": "1.2.0",
            "_view_name": "LayoutView",
            "align_content": null,
            "align_items": null,
            "align_self": null,
            "border": null,
            "bottom": null,
            "display": null,
            "flex": null,
            "flex_flow": null,
            "grid_area": null,
            "grid_auto_columns": null,
            "grid_auto_flow": null,
            "grid_auto_rows": null,
            "grid_column": null,
            "grid_gap": null,
            "grid_row": null,
            "grid_template_areas": null,
            "grid_template_columns": null,
            "grid_template_rows": null,
            "height": null,
            "justify_content": null,
            "justify_items": null,
            "left": null,
            "margin": null,
            "max_height": null,
            "max_width": null,
            "min_height": null,
            "min_width": null,
            "object_fit": null,
            "object_position": null,
            "order": null,
            "overflow": null,
            "overflow_x": null,
            "overflow_y": null,
            "padding": null,
            "right": null,
            "top": null,
            "visibility": null,
            "width": null
          }
        },
        "f5e16dc433ed41ceaf4346b6ee4bafc8": {
          "model_module": "@jupyter-widgets/controls",
          "model_name": "ProgressStyleModel",
          "model_module_version": "1.5.0",
          "state": {
            "_model_module": "@jupyter-widgets/controls",
            "_model_module_version": "1.5.0",
            "_model_name": "ProgressStyleModel",
            "_view_count": null,
            "_view_module": "@jupyter-widgets/base",
            "_view_module_version": "1.2.0",
            "_view_name": "StyleView",
            "bar_color": null,
            "description_width": ""
          }
        },
        "286d565a8127435fa620a38e322d2eab": {
          "model_module": "@jupyter-widgets/base",
          "model_name": "LayoutModel",
          "model_module_version": "1.2.0",
          "state": {
            "_model_module": "@jupyter-widgets/base",
            "_model_module_version": "1.2.0",
            "_model_name": "LayoutModel",
            "_view_count": null,
            "_view_module": "@jupyter-widgets/base",
            "_view_module_version": "1.2.0",
            "_view_name": "LayoutView",
            "align_content": null,
            "align_items": null,
            "align_self": null,
            "border": null,
            "bottom": null,
            "display": null,
            "flex": null,
            "flex_flow": null,
            "grid_area": null,
            "grid_auto_columns": null,
            "grid_auto_flow": null,
            "grid_auto_rows": null,
            "grid_column": null,
            "grid_gap": null,
            "grid_row": null,
            "grid_template_areas": null,
            "grid_template_columns": null,
            "grid_template_rows": null,
            "height": null,
            "justify_content": null,
            "justify_items": null,
            "left": null,
            "margin": null,
            "max_height": null,
            "max_width": null,
            "min_height": null,
            "min_width": null,
            "object_fit": null,
            "object_position": null,
            "order": null,
            "overflow": null,
            "overflow_x": null,
            "overflow_y": null,
            "padding": null,
            "right": null,
            "top": null,
            "visibility": null,
            "width": null
          }
        },
        "409040db3a7a4476acdb549641029e05": {
          "model_module": "@jupyter-widgets/controls",
          "model_name": "DescriptionStyleModel",
          "model_module_version": "1.5.0",
          "state": {
            "_model_module": "@jupyter-widgets/controls",
            "_model_module_version": "1.5.0",
            "_model_name": "DescriptionStyleModel",
            "_view_count": null,
            "_view_module": "@jupyter-widgets/base",
            "_view_module_version": "1.2.0",
            "_view_name": "StyleView",
            "description_width": ""
          }
        },
        "0ec519904b1b4188994990000a5c7e8c": {
          "model_module": "@jupyter-widgets/controls",
          "model_name": "HBoxModel",
          "model_module_version": "1.5.0",
          "state": {
            "_dom_classes": [],
            "_model_module": "@jupyter-widgets/controls",
            "_model_module_version": "1.5.0",
            "_model_name": "HBoxModel",
            "_view_count": null,
            "_view_module": "@jupyter-widgets/controls",
            "_view_module_version": "1.5.0",
            "_view_name": "HBoxView",
            "box_style": "",
            "children": [
              "IPY_MODEL_070de6206b994430803b90825fb14247",
              "IPY_MODEL_3b10add76adf41fda16728fa1a8139d1",
              "IPY_MODEL_651c8c4a5a184830ac2cdc169757025d"
            ],
            "layout": "IPY_MODEL_1c95d6b11b7a4e29ae8b0677b002d600"
          }
        },
        "070de6206b994430803b90825fb14247": {
          "model_module": "@jupyter-widgets/controls",
          "model_name": "HTMLModel",
          "model_module_version": "1.5.0",
          "state": {
            "_dom_classes": [],
            "_model_module": "@jupyter-widgets/controls",
            "_model_module_version": "1.5.0",
            "_model_name": "HTMLModel",
            "_view_count": null,
            "_view_module": "@jupyter-widgets/controls",
            "_view_module_version": "1.5.0",
            "_view_name": "HTMLView",
            "description": "",
            "description_tooltip": null,
            "layout": "IPY_MODEL_da687edf96214f23bf89d643979eacbf",
            "placeholder": "​",
            "style": "IPY_MODEL_1df1fb8540e44f27af8669a522d80f8b",
            "value": "vocab.txt: 100%"
          }
        },
        "3b10add76adf41fda16728fa1a8139d1": {
          "model_module": "@jupyter-widgets/controls",
          "model_name": "FloatProgressModel",
          "model_module_version": "1.5.0",
          "state": {
            "_dom_classes": [],
            "_model_module": "@jupyter-widgets/controls",
            "_model_module_version": "1.5.0",
            "_model_name": "FloatProgressModel",
            "_view_count": null,
            "_view_module": "@jupyter-widgets/controls",
            "_view_module_version": "1.5.0",
            "_view_name": "ProgressView",
            "bar_style": "success",
            "description": "",
            "description_tooltip": null,
            "layout": "IPY_MODEL_8ccf8badf32b43668a2ecbf45d511465",
            "max": 719993,
            "min": 0,
            "orientation": "horizontal",
            "style": "IPY_MODEL_2d80867a13204a41b272dd44a3525db5",
            "value": 719993
          }
        },
        "651c8c4a5a184830ac2cdc169757025d": {
          "model_module": "@jupyter-widgets/controls",
          "model_name": "HTMLModel",
          "model_module_version": "1.5.0",
          "state": {
            "_dom_classes": [],
            "_model_module": "@jupyter-widgets/controls",
            "_model_module_version": "1.5.0",
            "_model_name": "HTMLModel",
            "_view_count": null,
            "_view_module": "@jupyter-widgets/controls",
            "_view_module_version": "1.5.0",
            "_view_name": "HTMLView",
            "description": "",
            "description_tooltip": null,
            "layout": "IPY_MODEL_20451b88ea874e52be201c303d0a0cc5",
            "placeholder": "​",
            "style": "IPY_MODEL_8c5d654543884343a9641d7e1fa0a5da",
            "value": " 720k/720k [00:00&lt;00:00, 3.69MB/s]"
          }
        },
        "1c95d6b11b7a4e29ae8b0677b002d600": {
          "model_module": "@jupyter-widgets/base",
          "model_name": "LayoutModel",
          "model_module_version": "1.2.0",
          "state": {
            "_model_module": "@jupyter-widgets/base",
            "_model_module_version": "1.2.0",
            "_model_name": "LayoutModel",
            "_view_count": null,
            "_view_module": "@jupyter-widgets/base",
            "_view_module_version": "1.2.0",
            "_view_name": "LayoutView",
            "align_content": null,
            "align_items": null,
            "align_self": null,
            "border": null,
            "bottom": null,
            "display": null,
            "flex": null,
            "flex_flow": null,
            "grid_area": null,
            "grid_auto_columns": null,
            "grid_auto_flow": null,
            "grid_auto_rows": null,
            "grid_column": null,
            "grid_gap": null,
            "grid_row": null,
            "grid_template_areas": null,
            "grid_template_columns": null,
            "grid_template_rows": null,
            "height": null,
            "justify_content": null,
            "justify_items": null,
            "left": null,
            "margin": null,
            "max_height": null,
            "max_width": null,
            "min_height": null,
            "min_width": null,
            "object_fit": null,
            "object_position": null,
            "order": null,
            "overflow": null,
            "overflow_x": null,
            "overflow_y": null,
            "padding": null,
            "right": null,
            "top": null,
            "visibility": null,
            "width": null
          }
        },
        "da687edf96214f23bf89d643979eacbf": {
          "model_module": "@jupyter-widgets/base",
          "model_name": "LayoutModel",
          "model_module_version": "1.2.0",
          "state": {
            "_model_module": "@jupyter-widgets/base",
            "_model_module_version": "1.2.0",
            "_model_name": "LayoutModel",
            "_view_count": null,
            "_view_module": "@jupyter-widgets/base",
            "_view_module_version": "1.2.0",
            "_view_name": "LayoutView",
            "align_content": null,
            "align_items": null,
            "align_self": null,
            "border": null,
            "bottom": null,
            "display": null,
            "flex": null,
            "flex_flow": null,
            "grid_area": null,
            "grid_auto_columns": null,
            "grid_auto_flow": null,
            "grid_auto_rows": null,
            "grid_column": null,
            "grid_gap": null,
            "grid_row": null,
            "grid_template_areas": null,
            "grid_template_columns": null,
            "grid_template_rows": null,
            "height": null,
            "justify_content": null,
            "justify_items": null,
            "left": null,
            "margin": null,
            "max_height": null,
            "max_width": null,
            "min_height": null,
            "min_width": null,
            "object_fit": null,
            "object_position": null,
            "order": null,
            "overflow": null,
            "overflow_x": null,
            "overflow_y": null,
            "padding": null,
            "right": null,
            "top": null,
            "visibility": null,
            "width": null
          }
        },
        "1df1fb8540e44f27af8669a522d80f8b": {
          "model_module": "@jupyter-widgets/controls",
          "model_name": "DescriptionStyleModel",
          "model_module_version": "1.5.0",
          "state": {
            "_model_module": "@jupyter-widgets/controls",
            "_model_module_version": "1.5.0",
            "_model_name": "DescriptionStyleModel",
            "_view_count": null,
            "_view_module": "@jupyter-widgets/base",
            "_view_module_version": "1.2.0",
            "_view_name": "StyleView",
            "description_width": ""
          }
        },
        "8ccf8badf32b43668a2ecbf45d511465": {
          "model_module": "@jupyter-widgets/base",
          "model_name": "LayoutModel",
          "model_module_version": "1.2.0",
          "state": {
            "_model_module": "@jupyter-widgets/base",
            "_model_module_version": "1.2.0",
            "_model_name": "LayoutModel",
            "_view_count": null,
            "_view_module": "@jupyter-widgets/base",
            "_view_module_version": "1.2.0",
            "_view_name": "LayoutView",
            "align_content": null,
            "align_items": null,
            "align_self": null,
            "border": null,
            "bottom": null,
            "display": null,
            "flex": null,
            "flex_flow": null,
            "grid_area": null,
            "grid_auto_columns": null,
            "grid_auto_flow": null,
            "grid_auto_rows": null,
            "grid_column": null,
            "grid_gap": null,
            "grid_row": null,
            "grid_template_areas": null,
            "grid_template_columns": null,
            "grid_template_rows": null,
            "height": null,
            "justify_content": null,
            "justify_items": null,
            "left": null,
            "margin": null,
            "max_height": null,
            "max_width": null,
            "min_height": null,
            "min_width": null,
            "object_fit": null,
            "object_position": null,
            "order": null,
            "overflow": null,
            "overflow_x": null,
            "overflow_y": null,
            "padding": null,
            "right": null,
            "top": null,
            "visibility": null,
            "width": null
          }
        },
        "2d80867a13204a41b272dd44a3525db5": {
          "model_module": "@jupyter-widgets/controls",
          "model_name": "ProgressStyleModel",
          "model_module_version": "1.5.0",
          "state": {
            "_model_module": "@jupyter-widgets/controls",
            "_model_module_version": "1.5.0",
            "_model_name": "ProgressStyleModel",
            "_view_count": null,
            "_view_module": "@jupyter-widgets/base",
            "_view_module_version": "1.2.0",
            "_view_name": "StyleView",
            "bar_color": null,
            "description_width": ""
          }
        },
        "20451b88ea874e52be201c303d0a0cc5": {
          "model_module": "@jupyter-widgets/base",
          "model_name": "LayoutModel",
          "model_module_version": "1.2.0",
          "state": {
            "_model_module": "@jupyter-widgets/base",
            "_model_module_version": "1.2.0",
            "_model_name": "LayoutModel",
            "_view_count": null,
            "_view_module": "@jupyter-widgets/base",
            "_view_module_version": "1.2.0",
            "_view_name": "LayoutView",
            "align_content": null,
            "align_items": null,
            "align_self": null,
            "border": null,
            "bottom": null,
            "display": null,
            "flex": null,
            "flex_flow": null,
            "grid_area": null,
            "grid_auto_columns": null,
            "grid_auto_flow": null,
            "grid_auto_rows": null,
            "grid_column": null,
            "grid_gap": null,
            "grid_row": null,
            "grid_template_areas": null,
            "grid_template_columns": null,
            "grid_template_rows": null,
            "height": null,
            "justify_content": null,
            "justify_items": null,
            "left": null,
            "margin": null,
            "max_height": null,
            "max_width": null,
            "min_height": null,
            "min_width": null,
            "object_fit": null,
            "object_position": null,
            "order": null,
            "overflow": null,
            "overflow_x": null,
            "overflow_y": null,
            "padding": null,
            "right": null,
            "top": null,
            "visibility": null,
            "width": null
          }
        },
        "8c5d654543884343a9641d7e1fa0a5da": {
          "model_module": "@jupyter-widgets/controls",
          "model_name": "DescriptionStyleModel",
          "model_module_version": "1.5.0",
          "state": {
            "_model_module": "@jupyter-widgets/controls",
            "_model_module_version": "1.5.0",
            "_model_name": "DescriptionStyleModel",
            "_view_count": null,
            "_view_module": "@jupyter-widgets/base",
            "_view_module_version": "1.2.0",
            "_view_name": "StyleView",
            "description_width": ""
          }
        },
        "07888c26b35b4401b2d6b0c7395bc229": {
          "model_module": "@jupyter-widgets/controls",
          "model_name": "HBoxModel",
          "model_module_version": "1.5.0",
          "state": {
            "_dom_classes": [],
            "_model_module": "@jupyter-widgets/controls",
            "_model_module_version": "1.5.0",
            "_model_name": "HBoxModel",
            "_view_count": null,
            "_view_module": "@jupyter-widgets/controls",
            "_view_module_version": "1.5.0",
            "_view_name": "HBoxView",
            "box_style": "",
            "children": [
              "IPY_MODEL_5900a38eaa1a4d8bb0e5555a01244885",
              "IPY_MODEL_6de2adb86e684e559632ef754bc4c56c",
              "IPY_MODEL_38fdbd134cee42f8a3fd14c50a8128de"
            ],
            "layout": "IPY_MODEL_76b9c376c8a14e2f850cc11434cc3e27"
          }
        },
        "5900a38eaa1a4d8bb0e5555a01244885": {
          "model_module": "@jupyter-widgets/controls",
          "model_name": "HTMLModel",
          "model_module_version": "1.5.0",
          "state": {
            "_dom_classes": [],
            "_model_module": "@jupyter-widgets/controls",
            "_model_module_version": "1.5.0",
            "_model_name": "HTMLModel",
            "_view_count": null,
            "_view_module": "@jupyter-widgets/controls",
            "_view_module_version": "1.5.0",
            "_view_name": "HTMLView",
            "description": "",
            "description_tooltip": null,
            "layout": "IPY_MODEL_e539d56ff2794526947982e47d9646bc",
            "placeholder": "​",
            "style": "IPY_MODEL_cf67eca508984828b2c918c71141e32f",
            "value": "special_tokens_map.json: 100%"
          }
        },
        "6de2adb86e684e559632ef754bc4c56c": {
          "model_module": "@jupyter-widgets/controls",
          "model_name": "FloatProgressModel",
          "model_module_version": "1.5.0",
          "state": {
            "_dom_classes": [],
            "_model_module": "@jupyter-widgets/controls",
            "_model_module_version": "1.5.0",
            "_model_name": "FloatProgressModel",
            "_view_count": null,
            "_view_module": "@jupyter-widgets/controls",
            "_view_module_version": "1.5.0",
            "_view_name": "ProgressView",
            "bar_style": "success",
            "description": "",
            "description_tooltip": null,
            "layout": "IPY_MODEL_ae14b84f86744f078b0da7a2aea85ce6",
            "max": 112,
            "min": 0,
            "orientation": "horizontal",
            "style": "IPY_MODEL_445e01872a4343d8b64cc9dc1a902e9f",
            "value": 112
          }
        },
        "38fdbd134cee42f8a3fd14c50a8128de": {
          "model_module": "@jupyter-widgets/controls",
          "model_name": "HTMLModel",
          "model_module_version": "1.5.0",
          "state": {
            "_dom_classes": [],
            "_model_module": "@jupyter-widgets/controls",
            "_model_module_version": "1.5.0",
            "_model_name": "HTMLModel",
            "_view_count": null,
            "_view_module": "@jupyter-widgets/controls",
            "_view_module_version": "1.5.0",
            "_view_name": "HTMLView",
            "description": "",
            "description_tooltip": null,
            "layout": "IPY_MODEL_d32a775eb7c74cb0a882b4ebe36ae50d",
            "placeholder": "​",
            "style": "IPY_MODEL_dea45384847b43f4afdb2458c7a8d85c",
            "value": " 112/112 [00:00&lt;00:00, 8.79kB/s]"
          }
        },
        "76b9c376c8a14e2f850cc11434cc3e27": {
          "model_module": "@jupyter-widgets/base",
          "model_name": "LayoutModel",
          "model_module_version": "1.2.0",
          "state": {
            "_model_module": "@jupyter-widgets/base",
            "_model_module_version": "1.2.0",
            "_model_name": "LayoutModel",
            "_view_count": null,
            "_view_module": "@jupyter-widgets/base",
            "_view_module_version": "1.2.0",
            "_view_name": "LayoutView",
            "align_content": null,
            "align_items": null,
            "align_self": null,
            "border": null,
            "bottom": null,
            "display": null,
            "flex": null,
            "flex_flow": null,
            "grid_area": null,
            "grid_auto_columns": null,
            "grid_auto_flow": null,
            "grid_auto_rows": null,
            "grid_column": null,
            "grid_gap": null,
            "grid_row": null,
            "grid_template_areas": null,
            "grid_template_columns": null,
            "grid_template_rows": null,
            "height": null,
            "justify_content": null,
            "justify_items": null,
            "left": null,
            "margin": null,
            "max_height": null,
            "max_width": null,
            "min_height": null,
            "min_width": null,
            "object_fit": null,
            "object_position": null,
            "order": null,
            "overflow": null,
            "overflow_x": null,
            "overflow_y": null,
            "padding": null,
            "right": null,
            "top": null,
            "visibility": null,
            "width": null
          }
        },
        "e539d56ff2794526947982e47d9646bc": {
          "model_module": "@jupyter-widgets/base",
          "model_name": "LayoutModel",
          "model_module_version": "1.2.0",
          "state": {
            "_model_module": "@jupyter-widgets/base",
            "_model_module_version": "1.2.0",
            "_model_name": "LayoutModel",
            "_view_count": null,
            "_view_module": "@jupyter-widgets/base",
            "_view_module_version": "1.2.0",
            "_view_name": "LayoutView",
            "align_content": null,
            "align_items": null,
            "align_self": null,
            "border": null,
            "bottom": null,
            "display": null,
            "flex": null,
            "flex_flow": null,
            "grid_area": null,
            "grid_auto_columns": null,
            "grid_auto_flow": null,
            "grid_auto_rows": null,
            "grid_column": null,
            "grid_gap": null,
            "grid_row": null,
            "grid_template_areas": null,
            "grid_template_columns": null,
            "grid_template_rows": null,
            "height": null,
            "justify_content": null,
            "justify_items": null,
            "left": null,
            "margin": null,
            "max_height": null,
            "max_width": null,
            "min_height": null,
            "min_width": null,
            "object_fit": null,
            "object_position": null,
            "order": null,
            "overflow": null,
            "overflow_x": null,
            "overflow_y": null,
            "padding": null,
            "right": null,
            "top": null,
            "visibility": null,
            "width": null
          }
        },
        "cf67eca508984828b2c918c71141e32f": {
          "model_module": "@jupyter-widgets/controls",
          "model_name": "DescriptionStyleModel",
          "model_module_version": "1.5.0",
          "state": {
            "_model_module": "@jupyter-widgets/controls",
            "_model_module_version": "1.5.0",
            "_model_name": "DescriptionStyleModel",
            "_view_count": null,
            "_view_module": "@jupyter-widgets/base",
            "_view_module_version": "1.2.0",
            "_view_name": "StyleView",
            "description_width": ""
          }
        },
        "ae14b84f86744f078b0da7a2aea85ce6": {
          "model_module": "@jupyter-widgets/base",
          "model_name": "LayoutModel",
          "model_module_version": "1.2.0",
          "state": {
            "_model_module": "@jupyter-widgets/base",
            "_model_module_version": "1.2.0",
            "_model_name": "LayoutModel",
            "_view_count": null,
            "_view_module": "@jupyter-widgets/base",
            "_view_module_version": "1.2.0",
            "_view_name": "LayoutView",
            "align_content": null,
            "align_items": null,
            "align_self": null,
            "border": null,
            "bottom": null,
            "display": null,
            "flex": null,
            "flex_flow": null,
            "grid_area": null,
            "grid_auto_columns": null,
            "grid_auto_flow": null,
            "grid_auto_rows": null,
            "grid_column": null,
            "grid_gap": null,
            "grid_row": null,
            "grid_template_areas": null,
            "grid_template_columns": null,
            "grid_template_rows": null,
            "height": null,
            "justify_content": null,
            "justify_items": null,
            "left": null,
            "margin": null,
            "max_height": null,
            "max_width": null,
            "min_height": null,
            "min_width": null,
            "object_fit": null,
            "object_position": null,
            "order": null,
            "overflow": null,
            "overflow_x": null,
            "overflow_y": null,
            "padding": null,
            "right": null,
            "top": null,
            "visibility": null,
            "width": null
          }
        },
        "445e01872a4343d8b64cc9dc1a902e9f": {
          "model_module": "@jupyter-widgets/controls",
          "model_name": "ProgressStyleModel",
          "model_module_version": "1.5.0",
          "state": {
            "_model_module": "@jupyter-widgets/controls",
            "_model_module_version": "1.5.0",
            "_model_name": "ProgressStyleModel",
            "_view_count": null,
            "_view_module": "@jupyter-widgets/base",
            "_view_module_version": "1.2.0",
            "_view_name": "StyleView",
            "bar_color": null,
            "description_width": ""
          }
        },
        "d32a775eb7c74cb0a882b4ebe36ae50d": {
          "model_module": "@jupyter-widgets/base",
          "model_name": "LayoutModel",
          "model_module_version": "1.2.0",
          "state": {
            "_model_module": "@jupyter-widgets/base",
            "_model_module_version": "1.2.0",
            "_model_name": "LayoutModel",
            "_view_count": null,
            "_view_module": "@jupyter-widgets/base",
            "_view_module_version": "1.2.0",
            "_view_name": "LayoutView",
            "align_content": null,
            "align_items": null,
            "align_self": null,
            "border": null,
            "bottom": null,
            "display": null,
            "flex": null,
            "flex_flow": null,
            "grid_area": null,
            "grid_auto_columns": null,
            "grid_auto_flow": null,
            "grid_auto_rows": null,
            "grid_column": null,
            "grid_gap": null,
            "grid_row": null,
            "grid_template_areas": null,
            "grid_template_columns": null,
            "grid_template_rows": null,
            "height": null,
            "justify_content": null,
            "justify_items": null,
            "left": null,
            "margin": null,
            "max_height": null,
            "max_width": null,
            "min_height": null,
            "min_width": null,
            "object_fit": null,
            "object_position": null,
            "order": null,
            "overflow": null,
            "overflow_x": null,
            "overflow_y": null,
            "padding": null,
            "right": null,
            "top": null,
            "visibility": null,
            "width": null
          }
        },
        "dea45384847b43f4afdb2458c7a8d85c": {
          "model_module": "@jupyter-widgets/controls",
          "model_name": "DescriptionStyleModel",
          "model_module_version": "1.5.0",
          "state": {
            "_model_module": "@jupyter-widgets/controls",
            "_model_module_version": "1.5.0",
            "_model_name": "DescriptionStyleModel",
            "_view_count": null,
            "_view_module": "@jupyter-widgets/base",
            "_view_module_version": "1.2.0",
            "_view_name": "StyleView",
            "description_width": ""
          }
        },
        "64bbf9a895fa47159832b1499b418a6f": {
          "model_module": "@jupyter-widgets/controls",
          "model_name": "HBoxModel",
          "model_module_version": "1.5.0",
          "state": {
            "_dom_classes": [],
            "_model_module": "@jupyter-widgets/controls",
            "_model_module_version": "1.5.0",
            "_model_name": "HBoxModel",
            "_view_count": null,
            "_view_module": "@jupyter-widgets/controls",
            "_view_module_version": "1.5.0",
            "_view_name": "HBoxView",
            "box_style": "",
            "children": [
              "IPY_MODEL_90cdd4aea7f24a2889c2a9dd6384f55e",
              "IPY_MODEL_43df2140e3b140cc856df50e7ae7cba4",
              "IPY_MODEL_ec27f724cefa479e83459438664b0bbb"
            ],
            "layout": "IPY_MODEL_d550ec06976340d699aab3fa0da4da71"
          }
        },
        "90cdd4aea7f24a2889c2a9dd6384f55e": {
          "model_module": "@jupyter-widgets/controls",
          "model_name": "HTMLModel",
          "model_module_version": "1.5.0",
          "state": {
            "_dom_classes": [],
            "_model_module": "@jupyter-widgets/controls",
            "_model_module_version": "1.5.0",
            "_model_name": "HTMLModel",
            "_view_count": null,
            "_view_module": "@jupyter-widgets/controls",
            "_view_module_version": "1.5.0",
            "_view_name": "HTMLView",
            "description": "",
            "description_tooltip": null,
            "layout": "IPY_MODEL_6291a5654de14723924b11c7a23e0d33",
            "placeholder": "​",
            "style": "IPY_MODEL_8ff7cfd791cd49569fe6f5246a0c8ea0",
            "value": "tokenizer.json: 100%"
          }
        },
        "43df2140e3b140cc856df50e7ae7cba4": {
          "model_module": "@jupyter-widgets/controls",
          "model_name": "FloatProgressModel",
          "model_module_version": "1.5.0",
          "state": {
            "_dom_classes": [],
            "_model_module": "@jupyter-widgets/controls",
            "_model_module_version": "1.5.0",
            "_model_name": "FloatProgressModel",
            "_view_count": null,
            "_view_module": "@jupyter-widgets/controls",
            "_view_module_version": "1.5.0",
            "_view_name": "ProgressView",
            "bar_style": "success",
            "description": "",
            "description_tooltip": null,
            "layout": "IPY_MODEL_f6c1106979fc470cb8d6bc016ac19ed2",
            "max": 2306039,
            "min": 0,
            "orientation": "horizontal",
            "style": "IPY_MODEL_4619ed8b40114fc297d69b3fe55e0ce9",
            "value": 2306039
          }
        },
        "ec27f724cefa479e83459438664b0bbb": {
          "model_module": "@jupyter-widgets/controls",
          "model_name": "HTMLModel",
          "model_module_version": "1.5.0",
          "state": {
            "_dom_classes": [],
            "_model_module": "@jupyter-widgets/controls",
            "_model_module_version": "1.5.0",
            "_model_name": "HTMLModel",
            "_view_count": null,
            "_view_module": "@jupyter-widgets/controls",
            "_view_module_version": "1.5.0",
            "_view_name": "HTMLView",
            "description": "",
            "description_tooltip": null,
            "layout": "IPY_MODEL_8220a0c4baa0481789931648422f4a14",
            "placeholder": "​",
            "style": "IPY_MODEL_7d2c59d7871c4674a356af455159ea1f",
            "value": " 2.31M/2.31M [00:00&lt;00:00, 8.67MB/s]"
          }
        },
        "d550ec06976340d699aab3fa0da4da71": {
          "model_module": "@jupyter-widgets/base",
          "model_name": "LayoutModel",
          "model_module_version": "1.2.0",
          "state": {
            "_model_module": "@jupyter-widgets/base",
            "_model_module_version": "1.2.0",
            "_model_name": "LayoutModel",
            "_view_count": null,
            "_view_module": "@jupyter-widgets/base",
            "_view_module_version": "1.2.0",
            "_view_name": "LayoutView",
            "align_content": null,
            "align_items": null,
            "align_self": null,
            "border": null,
            "bottom": null,
            "display": null,
            "flex": null,
            "flex_flow": null,
            "grid_area": null,
            "grid_auto_columns": null,
            "grid_auto_flow": null,
            "grid_auto_rows": null,
            "grid_column": null,
            "grid_gap": null,
            "grid_row": null,
            "grid_template_areas": null,
            "grid_template_columns": null,
            "grid_template_rows": null,
            "height": null,
            "justify_content": null,
            "justify_items": null,
            "left": null,
            "margin": null,
            "max_height": null,
            "max_width": null,
            "min_height": null,
            "min_width": null,
            "object_fit": null,
            "object_position": null,
            "order": null,
            "overflow": null,
            "overflow_x": null,
            "overflow_y": null,
            "padding": null,
            "right": null,
            "top": null,
            "visibility": null,
            "width": null
          }
        },
        "6291a5654de14723924b11c7a23e0d33": {
          "model_module": "@jupyter-widgets/base",
          "model_name": "LayoutModel",
          "model_module_version": "1.2.0",
          "state": {
            "_model_module": "@jupyter-widgets/base",
            "_model_module_version": "1.2.0",
            "_model_name": "LayoutModel",
            "_view_count": null,
            "_view_module": "@jupyter-widgets/base",
            "_view_module_version": "1.2.0",
            "_view_name": "LayoutView",
            "align_content": null,
            "align_items": null,
            "align_self": null,
            "border": null,
            "bottom": null,
            "display": null,
            "flex": null,
            "flex_flow": null,
            "grid_area": null,
            "grid_auto_columns": null,
            "grid_auto_flow": null,
            "grid_auto_rows": null,
            "grid_column": null,
            "grid_gap": null,
            "grid_row": null,
            "grid_template_areas": null,
            "grid_template_columns": null,
            "grid_template_rows": null,
            "height": null,
            "justify_content": null,
            "justify_items": null,
            "left": null,
            "margin": null,
            "max_height": null,
            "max_width": null,
            "min_height": null,
            "min_width": null,
            "object_fit": null,
            "object_position": null,
            "order": null,
            "overflow": null,
            "overflow_x": null,
            "overflow_y": null,
            "padding": null,
            "right": null,
            "top": null,
            "visibility": null,
            "width": null
          }
        },
        "8ff7cfd791cd49569fe6f5246a0c8ea0": {
          "model_module": "@jupyter-widgets/controls",
          "model_name": "DescriptionStyleModel",
          "model_module_version": "1.5.0",
          "state": {
            "_model_module": "@jupyter-widgets/controls",
            "_model_module_version": "1.5.0",
            "_model_name": "DescriptionStyleModel",
            "_view_count": null,
            "_view_module": "@jupyter-widgets/base",
            "_view_module_version": "1.2.0",
            "_view_name": "StyleView",
            "description_width": ""
          }
        },
        "f6c1106979fc470cb8d6bc016ac19ed2": {
          "model_module": "@jupyter-widgets/base",
          "model_name": "LayoutModel",
          "model_module_version": "1.2.0",
          "state": {
            "_model_module": "@jupyter-widgets/base",
            "_model_module_version": "1.2.0",
            "_model_name": "LayoutModel",
            "_view_count": null,
            "_view_module": "@jupyter-widgets/base",
            "_view_module_version": "1.2.0",
            "_view_name": "LayoutView",
            "align_content": null,
            "align_items": null,
            "align_self": null,
            "border": null,
            "bottom": null,
            "display": null,
            "flex": null,
            "flex_flow": null,
            "grid_area": null,
            "grid_auto_columns": null,
            "grid_auto_flow": null,
            "grid_auto_rows": null,
            "grid_column": null,
            "grid_gap": null,
            "grid_row": null,
            "grid_template_areas": null,
            "grid_template_columns": null,
            "grid_template_rows": null,
            "height": null,
            "justify_content": null,
            "justify_items": null,
            "left": null,
            "margin": null,
            "max_height": null,
            "max_width": null,
            "min_height": null,
            "min_width": null,
            "object_fit": null,
            "object_position": null,
            "order": null,
            "overflow": null,
            "overflow_x": null,
            "overflow_y": null,
            "padding": null,
            "right": null,
            "top": null,
            "visibility": null,
            "width": null
          }
        },
        "4619ed8b40114fc297d69b3fe55e0ce9": {
          "model_module": "@jupyter-widgets/controls",
          "model_name": "ProgressStyleModel",
          "model_module_version": "1.5.0",
          "state": {
            "_model_module": "@jupyter-widgets/controls",
            "_model_module_version": "1.5.0",
            "_model_name": "ProgressStyleModel",
            "_view_count": null,
            "_view_module": "@jupyter-widgets/base",
            "_view_module_version": "1.2.0",
            "_view_name": "StyleView",
            "bar_color": null,
            "description_width": ""
          }
        },
        "8220a0c4baa0481789931648422f4a14": {
          "model_module": "@jupyter-widgets/base",
          "model_name": "LayoutModel",
          "model_module_version": "1.2.0",
          "state": {
            "_model_module": "@jupyter-widgets/base",
            "_model_module_version": "1.2.0",
            "_model_name": "LayoutModel",
            "_view_count": null,
            "_view_module": "@jupyter-widgets/base",
            "_view_module_version": "1.2.0",
            "_view_name": "LayoutView",
            "align_content": null,
            "align_items": null,
            "align_self": null,
            "border": null,
            "bottom": null,
            "display": null,
            "flex": null,
            "flex_flow": null,
            "grid_area": null,
            "grid_auto_columns": null,
            "grid_auto_flow": null,
            "grid_auto_rows": null,
            "grid_column": null,
            "grid_gap": null,
            "grid_row": null,
            "grid_template_areas": null,
            "grid_template_columns": null,
            "grid_template_rows": null,
            "height": null,
            "justify_content": null,
            "justify_items": null,
            "left": null,
            "margin": null,
            "max_height": null,
            "max_width": null,
            "min_height": null,
            "min_width": null,
            "object_fit": null,
            "object_position": null,
            "order": null,
            "overflow": null,
            "overflow_x": null,
            "overflow_y": null,
            "padding": null,
            "right": null,
            "top": null,
            "visibility": null,
            "width": null
          }
        },
        "7d2c59d7871c4674a356af455159ea1f": {
          "model_module": "@jupyter-widgets/controls",
          "model_name": "DescriptionStyleModel",
          "model_module_version": "1.5.0",
          "state": {
            "_model_module": "@jupyter-widgets/controls",
            "_model_module_version": "1.5.0",
            "_model_name": "DescriptionStyleModel",
            "_view_count": null,
            "_view_module": "@jupyter-widgets/base",
            "_view_module_version": "1.2.0",
            "_view_name": "StyleView",
            "description_width": ""
          }
        },
        "8a37e17fb6274c20a133c76367f50317": {
          "model_module": "@jupyter-widgets/controls",
          "model_name": "HBoxModel",
          "model_module_version": "1.5.0",
          "state": {
            "_dom_classes": [],
            "_model_module": "@jupyter-widgets/controls",
            "_model_module_version": "1.5.0",
            "_model_name": "HBoxModel",
            "_view_count": null,
            "_view_module": "@jupyter-widgets/controls",
            "_view_module_version": "1.5.0",
            "_view_name": "HBoxView",
            "box_style": "",
            "children": [
              "IPY_MODEL_c3425f722a6e48e7a83070f7df0fb77c",
              "IPY_MODEL_a255e5ffdfbb4b54b186868a55276070",
              "IPY_MODEL_4f6073d5ab61443797dbd3d89614de44"
            ],
            "layout": "IPY_MODEL_05c326b482314c88a2f6ee8985096e91"
          }
        },
        "c3425f722a6e48e7a83070f7df0fb77c": {
          "model_module": "@jupyter-widgets/controls",
          "model_name": "HTMLModel",
          "model_module_version": "1.5.0",
          "state": {
            "_dom_classes": [],
            "_model_module": "@jupyter-widgets/controls",
            "_model_module_version": "1.5.0",
            "_model_name": "HTMLModel",
            "_view_count": null,
            "_view_module": "@jupyter-widgets/controls",
            "_view_module_version": "1.5.0",
            "_view_name": "HTMLView",
            "description": "",
            "description_tooltip": null,
            "layout": "IPY_MODEL_cece3ab827d24ad2b141a7b66c5fbb84",
            "placeholder": "​",
            "style": "IPY_MODEL_e54293368e61460f8de8cfccc3fde244",
            "value": "config.json: 100%"
          }
        },
        "a255e5ffdfbb4b54b186868a55276070": {
          "model_module": "@jupyter-widgets/controls",
          "model_name": "FloatProgressModel",
          "model_module_version": "1.5.0",
          "state": {
            "_dom_classes": [],
            "_model_module": "@jupyter-widgets/controls",
            "_model_module_version": "1.5.0",
            "_model_name": "FloatProgressModel",
            "_view_count": null,
            "_view_module": "@jupyter-widgets/controls",
            "_view_module_version": "1.5.0",
            "_view_name": "ProgressView",
            "bar_style": "success",
            "description": "",
            "description_tooltip": null,
            "layout": "IPY_MODEL_375d12298f0b485ebdc91c184fb694f5",
            "max": 384,
            "min": 0,
            "orientation": "horizontal",
            "style": "IPY_MODEL_53b52f0f99474678be9cca4db05a5317",
            "value": 384
          }
        },
        "4f6073d5ab61443797dbd3d89614de44": {
          "model_module": "@jupyter-widgets/controls",
          "model_name": "HTMLModel",
          "model_module_version": "1.5.0",
          "state": {
            "_dom_classes": [],
            "_model_module": "@jupyter-widgets/controls",
            "_model_module_version": "1.5.0",
            "_model_name": "HTMLModel",
            "_view_count": null,
            "_view_module": "@jupyter-widgets/controls",
            "_view_module_version": "1.5.0",
            "_view_name": "HTMLView",
            "description": "",
            "description_tooltip": null,
            "layout": "IPY_MODEL_9493bf2dbcca4f6da3698d54eecd8312",
            "placeholder": "​",
            "style": "IPY_MODEL_1cbd4fd199214a3c8485a51ff7493eeb",
            "value": " 384/384 [00:00&lt;00:00, 14.7kB/s]"
          }
        },
        "05c326b482314c88a2f6ee8985096e91": {
          "model_module": "@jupyter-widgets/base",
          "model_name": "LayoutModel",
          "model_module_version": "1.2.0",
          "state": {
            "_model_module": "@jupyter-widgets/base",
            "_model_module_version": "1.2.0",
            "_model_name": "LayoutModel",
            "_view_count": null,
            "_view_module": "@jupyter-widgets/base",
            "_view_module_version": "1.2.0",
            "_view_name": "LayoutView",
            "align_content": null,
            "align_items": null,
            "align_self": null,
            "border": null,
            "bottom": null,
            "display": null,
            "flex": null,
            "flex_flow": null,
            "grid_area": null,
            "grid_auto_columns": null,
            "grid_auto_flow": null,
            "grid_auto_rows": null,
            "grid_column": null,
            "grid_gap": null,
            "grid_row": null,
            "grid_template_areas": null,
            "grid_template_columns": null,
            "grid_template_rows": null,
            "height": null,
            "justify_content": null,
            "justify_items": null,
            "left": null,
            "margin": null,
            "max_height": null,
            "max_width": null,
            "min_height": null,
            "min_width": null,
            "object_fit": null,
            "object_position": null,
            "order": null,
            "overflow": null,
            "overflow_x": null,
            "overflow_y": null,
            "padding": null,
            "right": null,
            "top": null,
            "visibility": null,
            "width": null
          }
        },
        "cece3ab827d24ad2b141a7b66c5fbb84": {
          "model_module": "@jupyter-widgets/base",
          "model_name": "LayoutModel",
          "model_module_version": "1.2.0",
          "state": {
            "_model_module": "@jupyter-widgets/base",
            "_model_module_version": "1.2.0",
            "_model_name": "LayoutModel",
            "_view_count": null,
            "_view_module": "@jupyter-widgets/base",
            "_view_module_version": "1.2.0",
            "_view_name": "LayoutView",
            "align_content": null,
            "align_items": null,
            "align_self": null,
            "border": null,
            "bottom": null,
            "display": null,
            "flex": null,
            "flex_flow": null,
            "grid_area": null,
            "grid_auto_columns": null,
            "grid_auto_flow": null,
            "grid_auto_rows": null,
            "grid_column": null,
            "grid_gap": null,
            "grid_row": null,
            "grid_template_areas": null,
            "grid_template_columns": null,
            "grid_template_rows": null,
            "height": null,
            "justify_content": null,
            "justify_items": null,
            "left": null,
            "margin": null,
            "max_height": null,
            "max_width": null,
            "min_height": null,
            "min_width": null,
            "object_fit": null,
            "object_position": null,
            "order": null,
            "overflow": null,
            "overflow_x": null,
            "overflow_y": null,
            "padding": null,
            "right": null,
            "top": null,
            "visibility": null,
            "width": null
          }
        },
        "e54293368e61460f8de8cfccc3fde244": {
          "model_module": "@jupyter-widgets/controls",
          "model_name": "DescriptionStyleModel",
          "model_module_version": "1.5.0",
          "state": {
            "_model_module": "@jupyter-widgets/controls",
            "_model_module_version": "1.5.0",
            "_model_name": "DescriptionStyleModel",
            "_view_count": null,
            "_view_module": "@jupyter-widgets/base",
            "_view_module_version": "1.2.0",
            "_view_name": "StyleView",
            "description_width": ""
          }
        },
        "375d12298f0b485ebdc91c184fb694f5": {
          "model_module": "@jupyter-widgets/base",
          "model_name": "LayoutModel",
          "model_module_version": "1.2.0",
          "state": {
            "_model_module": "@jupyter-widgets/base",
            "_model_module_version": "1.2.0",
            "_model_name": "LayoutModel",
            "_view_count": null,
            "_view_module": "@jupyter-widgets/base",
            "_view_module_version": "1.2.0",
            "_view_name": "LayoutView",
            "align_content": null,
            "align_items": null,
            "align_self": null,
            "border": null,
            "bottom": null,
            "display": null,
            "flex": null,
            "flex_flow": null,
            "grid_area": null,
            "grid_auto_columns": null,
            "grid_auto_flow": null,
            "grid_auto_rows": null,
            "grid_column": null,
            "grid_gap": null,
            "grid_row": null,
            "grid_template_areas": null,
            "grid_template_columns": null,
            "grid_template_rows": null,
            "height": null,
            "justify_content": null,
            "justify_items": null,
            "left": null,
            "margin": null,
            "max_height": null,
            "max_width": null,
            "min_height": null,
            "min_width": null,
            "object_fit": null,
            "object_position": null,
            "order": null,
            "overflow": null,
            "overflow_x": null,
            "overflow_y": null,
            "padding": null,
            "right": null,
            "top": null,
            "visibility": null,
            "width": null
          }
        },
        "53b52f0f99474678be9cca4db05a5317": {
          "model_module": "@jupyter-widgets/controls",
          "model_name": "ProgressStyleModel",
          "model_module_version": "1.5.0",
          "state": {
            "_model_module": "@jupyter-widgets/controls",
            "_model_module_version": "1.5.0",
            "_model_name": "ProgressStyleModel",
            "_view_count": null,
            "_view_module": "@jupyter-widgets/base",
            "_view_module_version": "1.2.0",
            "_view_name": "StyleView",
            "bar_color": null,
            "description_width": ""
          }
        },
        "9493bf2dbcca4f6da3698d54eecd8312": {
          "model_module": "@jupyter-widgets/base",
          "model_name": "LayoutModel",
          "model_module_version": "1.2.0",
          "state": {
            "_model_module": "@jupyter-widgets/base",
            "_model_module_version": "1.2.0",
            "_model_name": "LayoutModel",
            "_view_count": null,
            "_view_module": "@jupyter-widgets/base",
            "_view_module_version": "1.2.0",
            "_view_name": "LayoutView",
            "align_content": null,
            "align_items": null,
            "align_self": null,
            "border": null,
            "bottom": null,
            "display": null,
            "flex": null,
            "flex_flow": null,
            "grid_area": null,
            "grid_auto_columns": null,
            "grid_auto_flow": null,
            "grid_auto_rows": null,
            "grid_column": null,
            "grid_gap": null,
            "grid_row": null,
            "grid_template_areas": null,
            "grid_template_columns": null,
            "grid_template_rows": null,
            "height": null,
            "justify_content": null,
            "justify_items": null,
            "left": null,
            "margin": null,
            "max_height": null,
            "max_width": null,
            "min_height": null,
            "min_width": null,
            "object_fit": null,
            "object_position": null,
            "order": null,
            "overflow": null,
            "overflow_x": null,
            "overflow_y": null,
            "padding": null,
            "right": null,
            "top": null,
            "visibility": null,
            "width": null
          }
        },
        "1cbd4fd199214a3c8485a51ff7493eeb": {
          "model_module": "@jupyter-widgets/controls",
          "model_name": "DescriptionStyleModel",
          "model_module_version": "1.5.0",
          "state": {
            "_model_module": "@jupyter-widgets/controls",
            "_model_module_version": "1.5.0",
            "_model_name": "DescriptionStyleModel",
            "_view_count": null,
            "_view_module": "@jupyter-widgets/base",
            "_view_module_version": "1.2.0",
            "_view_name": "StyleView",
            "description_width": ""
          }
        }
      }
    },
    "colab": {
      "provenance": [],
      "gpuType": "T4",
      "name": "notebookbbe2d508fa"
    },
    "accelerator": "GPU"
  },
  "nbformat_minor": 5,
  "nbformat": 4,
  "cells": [
    {
      "id": "8Z08a2HbjihX",
      "cell_type": "markdown",
      "source": [],
      "metadata": {
        "id": "8Z08a2HbjihX"
      }
    },
    {
      "id": "IdWi7p8pwiOK",
      "cell_type": "markdown",
      "source": [
        "# Nouvelle section"
      ],
      "metadata": {
        "id": "IdWi7p8pwiOK"
      }
    },
    {
      "id": "lQ-ogi5nFvQL",
      "cell_type": "markdown",
      "source": [
        "importation et preparation des donnée:\n",
        "\n",
        "la dataset SANAD_SUBJECT contenant 3 dataset respectivement dupliquer entr train et test data\n"
      ],
      "metadata": {
        "id": "lQ-ogi5nFvQL"
      }
    },
    {
      "id": "UeDbEUPE_KkO",
      "cell_type": "code",
      "source": [
        "import os\n",
        "import pandas as pd\n",
        "from sklearn.model_selection import train_test_split\n",
        "import torch\n",
        "\n",
        "device = \"cuda\" if torch.cuda.is_available() else \"cpu\"\n",
        "print(f\"Utilisation de l'appareil : {device}\")\n",
        "\n",
        "dataset_dir = \"/kaggle/input/sanad-subset\"\n",
        "sources = [\"arabiya\"]\n",
        "\n",
        "def load_data(data_dir, sources):\n",
        "    data = []\n",
        "    for source in sources:\n",
        "        source_path = os.path.join(data_dir, source)\n",
        "        for split in [\"Train\", \"Test\"]:\n",
        "            split_path = os.path.join(source_path, split)\n",
        "            if not os.path.exists(split_path):\n",
        "                print(f\"Split folder '{split}' not found in {source_path}. Skipping.\")\n",
        "                continue\n",
        "\n",
        "            for category in os.listdir(split_path):\n",
        "                category_path = os.path.join(split_path, category)\n",
        "                if os.path.isdir(category_path):\n",
        "                    for file in os.listdir(category_path):\n",
        "                        file_path = os.path.join(category_path, file)\n",
        "                        if os.path.isfile(file_path):\n",
        "                            try:\n",
        "                                with open(file_path, 'r', encoding='utf-8') as f:\n",
        "                                    text = f.read().strip()\n",
        "                                    data.append({\"text\": text, \"label\": category})\n",
        "                            except Exception as e:\n",
        "                                print(f\"Error reading file {file_path}: {e}\")\n",
        "    return data\n",
        "\n",
        "print(\"Chargement des données...\")\n",
        "all_data = load_data(dataset_dir, sources)\n",
        "\n",
        "if len(all_data) == 0:\n",
        "    raise ValueError(\"No data was loaded. Check your dataset structure.\")\n",
        "\n",
        "df = pd.DataFrame(all_data)\n",
        "print(f\"Nombre total de données : {len(df)}\")\n",
        "\n",
        "train_df, test_df = train_test_split(df, test_size=0.1, random_state=42)\n",
        "\n",
        "print(\"Aperçu des données d'entraînement :\")\n",
        "print(train_df.head())\n",
        "print(f\"Nombre de données d'entraînement : {len(train_df)}\")\n",
        "print(f\"Nombre de données de test : {len(test_df)}\")"
      ],
      "metadata": {
        "colab": {
          "base_uri": "https://localhost:8080/"
        },
        "id": "UeDbEUPE_KkO",
        "outputId": "2595d45f-373a-4111-d460-b67f794ae464",
        "trusted": true,
        "execution": {
          "iopub.status.busy": "2024-12-23T05:11:42.565526Z",
          "iopub.execute_input": "2024-12-23T05:11:42.565862Z",
          "iopub.status.idle": "2024-12-23T05:13:55.347918Z",
          "shell.execute_reply.started": "2024-12-23T05:11:42.565818Z",
          "shell.execute_reply": "2024-12-23T05:13:55.346997Z"
        }
      },
      "outputs": [
        {
          "name": "stdout",
          "text": "Utilisation de l'appareil : cuda\nChargement des données...\nNombre total de données : 18500\nAperçu des données d'entraînement :\n                                                    text     label\n7918   Title\\nهامبورغ يضم نبيل بهوي حتى 2018\\nSource\\...    Sports\n3753   Title\\nخلايا نائمة تشتبك مع القوات العراقية با...  Politics\n50     Title\\n75 % من عقارات لندن الجديدة في قبضة مست...   Finance\n4230   Title\\nما هي التقنيات الجديدة للقوات العراقية ...  Politics\n16142  Title\\nموزيلا تُطلق رسمياً فايرفوكس لأجهزة آيف...      Tech\nNombre de données d'entraînement : 16650\nNombre de données de test : 1850\n",
          "output_type": "stream"
        }
      ],
      "execution_count": null
    },
    {
      "id": "0mrk-LUKBDeM",
      "cell_type": "code",
      "source": [
        "categories = train_df[\"label\"].unique()\n",
        "label_mapping = {label: idx for idx, label in enumerate(categories)}\n",
        "\n",
        "train_df[\"label\"] = train_df[\"label\"].map(label_mapping)\n",
        "test_df[\"label\"] = test_df[\"label\"].map(label_mapping)\n",
        "\n",
        "train_texts = train_df[\"text\"].tolist()\n",
        "train_labels = train_df[\"label\"].tolist()\n",
        "\n",
        "test_texts = test_df[\"text\"].tolist()\n",
        "test_labels = test_df[\"label\"].tolist()\n",
        "\n",
        "train_texts, val_texts, train_labels, val_labels = train_test_split(\n",
        "    train_texts, train_labels, test_size=0.1, random_state=42\n",
        ")\n",
        "\n",
        "print(f\"Nombre de textes d'entraînement : {len(train_texts)}\")\n",
        "print(f\"Nombre de textes de validation : {len(val_texts)}\")\n",
        "print(f\"Nombre de textes de test : {len(test_texts)}\")"
      ],
      "metadata": {
        "id": "0mrk-LUKBDeM",
        "colab": {
          "base_uri": "https://localhost:8080/"
        },
        "outputId": "4dfbdaf6-919d-48cc-8bc1-9c9a4067922b",
        "trusted": true,
        "execution": {
          "iopub.status.busy": "2024-12-23T05:16:12.266092Z",
          "iopub.execute_input": "2024-12-23T05:16:12.266422Z",
          "iopub.status.idle": "2024-12-23T05:16:12.295711Z",
          "shell.execute_reply.started": "2024-12-23T05:16:12.266398Z",
          "shell.execute_reply": "2024-12-23T05:16:12.294753Z"
        }
      },
      "outputs": [
        {
          "name": "stdout",
          "text": "Nombre de textes d'entraînement : 14985\nNombre de textes de validation : 1665\nNombre de textes de test : 1850\n",
          "output_type": "stream"
        }
      ],
      "execution_count": null
    },
    {
      "id": "11b1b545",
      "cell_type": "markdown",
      "source": [
        "2-Tokenisation avecle tokeniseur araBert:\n",
        "\n",
        "On utilise le tokenizer de BERT pour convertir les textes en tokens exploitables par le modèle."
      ],
      "metadata": {
        "papermill": {
          "duration": 0.067779,
          "end_time": "2024-12-17T18:27:39.942863",
          "exception": false,
          "start_time": "2024-12-17T18:27:39.875084",
          "status": "completed"
        },
        "tags": [],
        "id": "11b1b545"
      }
    },
    {
      "id": "E_ga4U8bHZgQ",
      "cell_type": "code",
      "source": [
        "import torch\n",
        "from transformers import BertTokenizer, BertForSequenceClassification, Trainer, TrainingArguments\n",
        "from sklearn.metrics import accuracy_score\n",
        "import pandas as pd\n",
        "from datasets import Dataset\n",
        "\n",
        "MODEL_NAME = \"aubmindlab/bert-base-arabertv2\"\n",
        "tokenizer = BertTokenizer.from_pretrained(MODEL_NAME)\n",
        "\n",
        "def subsample_dataset(dataset, sample_size):\n",
        "    \"\"\"Randomly sample a subset of the dataset.\"\"\"\n",
        "    return dataset.sample(n=sample_size, random_state=42)\n",
        "\n",
        "TRAIN_SAMPLE_SIZE = 14985\n",
        "VALID_SAMPLE_SIZE = 1665\n",
        "TEST_SAMPLE_SIZE = 1850\n",
        "\n",
        "train_df_small = subsample_dataset(train_df, TRAIN_SAMPLE_SIZE)\n",
        "val_df_small = subsample_dataset(test_df, VALID_SAMPLE_SIZE)\n",
        "test_df_small = subsample_dataset(test_df, TEST_SAMPLE_SIZE)\n",
        "\n",
        "def tokenize_function(examples):\n",
        "    return tokenizer(\n",
        "        examples[\"text\"],\n",
        "        truncation=True,\n",
        "        padding=\"max_length\",\n",
        "        max_length=128,\n",
        "    )\n",
        "\n",
        "train_dataset = Dataset.from_pandas(train_df_small).map(tokenize_function, batched=True)\n",
        "val_dataset = Dataset.from_pandas(val_df_small).map(tokenize_function, batched=True)\n",
        "test_dataset = Dataset.from_pandas(test_df_small).map(tokenize_function, batched=True)\n",
        "\n",
        "train_dataset = train_dataset.rename_column(\"label\", \"labels\")\n",
        "val_dataset = val_dataset.rename_column(\"label\", \"labels\")\n",
        "test_dataset = test_dataset.rename_column(\"label\", \"labels\")\n",
        "train_dataset.set_format(type=\"torch\", columns=[\"input_ids\", \"attention_mask\", \"labels\"])\n",
        "val_dataset.set_format(type=\"torch\", columns=[\"input_ids\", \"attention_mask\", \"labels\"])\n",
        "test_dataset.set_format(type=\"torch\", columns=[\"input_ids\", \"attention_mask\", \"labels\"])"
      ],
      "metadata": {
        "colab": {
          "base_uri": "https://localhost:8080/",
          "height": 318,
          "referenced_widgets": [
            "66046ba65331403b9ea4b79b1cbc0c01",
            "ac6d1c76d2b54fcfaaa37eb43f01fceb",
            "c6f0c83b25304f10bbc956a12972f73f",
            "48c806d4ae294e34995d6ff93af544d6",
            "4786f9ce9831446197d75251c28c047f",
            "44ee8099c8774491ac3e85e8ac33f32f",
            "3fddc0b9f3a54396a29650b2a01901a3",
            "be46d1802ef84d6cad0c10a701182196",
            "f5e16dc433ed41ceaf4346b6ee4bafc8",
            "286d565a8127435fa620a38e322d2eab",
            "409040db3a7a4476acdb549641029e05",
            "0ec519904b1b4188994990000a5c7e8c",
            "070de6206b994430803b90825fb14247",
            "3b10add76adf41fda16728fa1a8139d1",
            "651c8c4a5a184830ac2cdc169757025d",
            "1c95d6b11b7a4e29ae8b0677b002d600",
            "da687edf96214f23bf89d643979eacbf",
            "1df1fb8540e44f27af8669a522d80f8b",
            "8ccf8badf32b43668a2ecbf45d511465",
            "2d80867a13204a41b272dd44a3525db5",
            "20451b88ea874e52be201c303d0a0cc5",
            "8c5d654543884343a9641d7e1fa0a5da",
            "07888c26b35b4401b2d6b0c7395bc229",
            "5900a38eaa1a4d8bb0e5555a01244885",
            "6de2adb86e684e559632ef754bc4c56c",
            "38fdbd134cee42f8a3fd14c50a8128de",
            "76b9c376c8a14e2f850cc11434cc3e27",
            "e539d56ff2794526947982e47d9646bc",
            "cf67eca508984828b2c918c71141e32f",
            "ae14b84f86744f078b0da7a2aea85ce6",
            "445e01872a4343d8b64cc9dc1a902e9f",
            "d32a775eb7c74cb0a882b4ebe36ae50d",
            "dea45384847b43f4afdb2458c7a8d85c",
            "64bbf9a895fa47159832b1499b418a6f",
            "90cdd4aea7f24a2889c2a9dd6384f55e",
            "43df2140e3b140cc856df50e7ae7cba4",
            "ec27f724cefa479e83459438664b0bbb",
            "d550ec06976340d699aab3fa0da4da71",
            "6291a5654de14723924b11c7a23e0d33",
            "8ff7cfd791cd49569fe6f5246a0c8ea0",
            "f6c1106979fc470cb8d6bc016ac19ed2",
            "4619ed8b40114fc297d69b3fe55e0ce9",
            "8220a0c4baa0481789931648422f4a14",
            "7d2c59d7871c4674a356af455159ea1f",
            "8a37e17fb6274c20a133c76367f50317",
            "c3425f722a6e48e7a83070f7df0fb77c",
            "a255e5ffdfbb4b54b186868a55276070",
            "4f6073d5ab61443797dbd3d89614de44",
            "05c326b482314c88a2f6ee8985096e91",
            "cece3ab827d24ad2b141a7b66c5fbb84",
            "e54293368e61460f8de8cfccc3fde244",
            "375d12298f0b485ebdc91c184fb694f5",
            "53b52f0f99474678be9cca4db05a5317",
            "9493bf2dbcca4f6da3698d54eecd8312",
            "1cbd4fd199214a3c8485a51ff7493eeb",
            "78b2d5378c5e496cbb3fc4eda50a669a",
            "d0b78cc7d6314eebabc54e73e75da2ca",
            "8f9e5fa0a4d644a6b5623b320d5594de",
            "9255a44f63654fed90a7bcb9f6092522",
            "4f4fa799f83b4df98caa44fa42c8d0dc",
            "157c981caa90428fb21d6087a5013ca0",
            "2a5c5a9fd04244b7955c7af462d37960",
            "73a3007b87344c2a81ccf45b5acd72db",
            "ce9471b4cbca4a2e831b64461a7b536f",
            "46db117d15224c9e82ab6c2eb231acb6",
            "725ad8446182414d8a4c8e12e83bbb3d"
          ]
        },
        "id": "E_ga4U8bHZgQ",
        "outputId": "2aec457e-2250-481b-a1f1-7de2552a7c9a",
        "trusted": true,
        "execution": {
          "iopub.status.busy": "2024-12-23T05:16:23.374019Z",
          "iopub.execute_input": "2024-12-23T05:16:23.374378Z",
          "iopub.status.idle": "2024-12-23T05:18:05.839594Z",
          "shell.execute_reply.started": "2024-12-23T05:16:23.374355Z",
          "shell.execute_reply": "2024-12-23T05:18:05.83873Z"
        }
      },
      "outputs": [
        {
          "output_type": "display_data",
          "data": {
            "text/plain": "tokenizer_config.json:   0%|          | 0.00/611 [00:00<?, ?B/s]",
            "application/vnd.jupyter.widget-view+json": {
              "version_major": 2,
              "version_minor": 0,
              "model_id": "9255a44f63654fed90a7bcb9f6092522"
            }
          },
          "metadata": {}
        },
        {
          "output_type": "display_data",
          "data": {
            "text/plain": "vocab.txt:   0%|          | 0.00/720k [00:00<?, ?B/s]",
            "application/vnd.jupyter.widget-view+json": {
              "version_major": 2,
              "version_minor": 0,
              "model_id": "4f4fa799f83b4df98caa44fa42c8d0dc"
            }
          },
          "metadata": {}
        },
        {
          "output_type": "display_data",
          "data": {
            "text/plain": "special_tokens_map.json:   0%|          | 0.00/112 [00:00<?, ?B/s]",
            "application/vnd.jupyter.widget-view+json": {
              "version_major": 2,
              "version_minor": 0,
              "model_id": "157c981caa90428fb21d6087a5013ca0"
            }
          },
          "metadata": {}
        },
        {
          "output_type": "display_data",
          "data": {
            "text/plain": "tokenizer.json:   0%|          | 0.00/2.31M [00:00<?, ?B/s]",
            "application/vnd.jupyter.widget-view+json": {
              "version_major": 2,
              "version_minor": 0,
              "model_id": "2a5c5a9fd04244b7955c7af462d37960"
            }
          },
          "metadata": {}
        },
        {
          "output_type": "display_data",
          "data": {
            "text/plain": "config.json:   0%|          | 0.00/384 [00:00<?, ?B/s]",
            "application/vnd.jupyter.widget-view+json": {
              "version_major": 2,
              "version_minor": 0,
              "model_id": "73a3007b87344c2a81ccf45b5acd72db"
            }
          },
          "metadata": {}
        },
        {
          "name": "stderr",
          "text": "/usr/local/lib/python3.10/dist-packages/transformers/tokenization_utils_base.py:1601: FutureWarning: `clean_up_tokenization_spaces` was not set. It will be set to `True` by default. This behavior will be depracted in transformers v4.45, and will be then set to `False` by default. For more details check this issue: https://github.com/huggingface/transformers/issues/31884\n  warnings.warn(\n",
          "output_type": "stream"
        },
        {
          "output_type": "display_data",
          "data": {
            "text/plain": "Map:   0%|          | 0/14985 [00:00<?, ? examples/s]",
            "application/vnd.jupyter.widget-view+json": {
              "version_major": 2,
              "version_minor": 0,
              "model_id": "ce9471b4cbca4a2e831b64461a7b536f"
            }
          },
          "metadata": {}
        },
        {
          "output_type": "display_data",
          "data": {
            "text/plain": "Map:   0%|          | 0/1665 [00:00<?, ? examples/s]",
            "application/vnd.jupyter.widget-view+json": {
              "version_major": 2,
              "version_minor": 0,
              "model_id": "46db117d15224c9e82ab6c2eb231acb6"
            }
          },
          "metadata": {}
        },
        {
          "output_type": "display_data",
          "data": {
            "text/plain": "Map:   0%|          | 0/1850 [00:00<?, ? examples/s]",
            "application/vnd.jupyter.widget-view+json": {
              "version_major": 2,
              "version_minor": 0,
              "model_id": "725ad8446182414d8a4c8e12e83bbb3d"
            }
          },
          "metadata": {}
        }
      ],
      "execution_count": null
    },
    {
      "id": "3fe82032",
      "cell_type": "markdown",
      "source": [
        "**3-Fine-Tuning du Modèle araBERT :**\n",
        "\n",
        "On entraîne un modèle araBert pour la classification de texte."
      ],
      "metadata": {
        "papermill": {
          "duration": 0.065006,
          "end_time": "2024-12-17T18:28:14.989332",
          "exception": false,
          "start_time": "2024-12-17T18:28:14.924326",
          "status": "completed"
        },
        "tags": [],
        "id": "3fe82032"
      }
    },
    {
      "id": "bb11b7c1",
      "cell_type": "markdown",
      "source": [
        "**Entrainement du model AraBert:**"
      ],
      "metadata": {
        "papermill": {
          "duration": 0.065732,
          "end_time": "2024-12-17T18:28:27.552609",
          "exception": false,
          "start_time": "2024-12-17T18:28:27.486877",
          "status": "completed"
        },
        "tags": [],
        "id": "bb11b7c1"
      }
    },
    {
      "id": "54e4d452-cb88-4102-8e1a-217da9a093dc",
      "cell_type": "code",
      "source": [
        "pip install wandb"
      ],
      "metadata": {
        "trusted": true,
        "execution": {
          "iopub.status.busy": "2024-12-23T05:18:46.200399Z",
          "iopub.execute_input": "2024-12-23T05:18:46.200726Z",
          "iopub.status.idle": "2024-12-23T05:18:50.761096Z",
          "shell.execute_reply.started": "2024-12-23T05:18:46.200702Z",
          "shell.execute_reply": "2024-12-23T05:18:50.759936Z"
        },
        "collapsed": true,
        "jupyter": {
          "outputs_hidden": true
        },
        "id": "54e4d452-cb88-4102-8e1a-217da9a093dc",
        "outputId": "8f753d6f-d32b-4ba5-dc14-63fc311f3b4f"
      },
      "outputs": [
        {
          "name": "stderr",
          "text": "/usr/lib/python3.10/pty.py:89: RuntimeWarning: os.fork() was called. os.fork() is incompatible with multithreaded code, and JAX is multithreaded, so this will likely lead to a deadlock.\n  pid, fd = os.forkpty()\n",
          "output_type": "stream"
        },
        {
          "name": "stdout",
          "text": "Requirement already satisfied: wandb in /usr/local/lib/python3.10/dist-packages (0.19.1)\nRequirement already satisfied: click!=8.0.0,>=7.1 in /usr/local/lib/python3.10/dist-packages (from wandb) (8.1.7)\nRequirement already satisfied: docker-pycreds>=0.4.0 in /usr/local/lib/python3.10/dist-packages (from wandb) (0.4.0)\nRequirement already satisfied: gitpython!=3.1.29,>=1.0.0 in /usr/local/lib/python3.10/dist-packages (from wandb) (3.1.43)\nRequirement already satisfied: platformdirs in /usr/local/lib/python3.10/dist-packages (from wandb) (4.3.6)\nRequirement already satisfied: protobuf!=4.21.0,!=5.28.0,<6,>=3.19.0 in /usr/local/lib/python3.10/dist-packages (from wandb) (3.20.3)\nRequirement already satisfied: psutil>=5.0.0 in /usr/local/lib/python3.10/dist-packages (from wandb) (5.9.5)\nRequirement already satisfied: pydantic<3,>=2.6 in /usr/local/lib/python3.10/dist-packages (from wandb) (2.9.2)\nRequirement already satisfied: pyyaml in /usr/local/lib/python3.10/dist-packages (from wandb) (6.0.2)\nRequirement already satisfied: requests<3,>=2.0.0 in /usr/local/lib/python3.10/dist-packages (from wandb) (2.32.3)\nRequirement already satisfied: sentry-sdk>=2.0.0 in /usr/local/lib/python3.10/dist-packages (from wandb) (2.19.2)\nRequirement already satisfied: setproctitle in /usr/local/lib/python3.10/dist-packages (from wandb) (1.3.4)\nRequirement already satisfied: setuptools in /usr/local/lib/python3.10/dist-packages (from wandb) (71.0.4)\nRequirement already satisfied: typing-extensions<5,>=4.4 in /usr/local/lib/python3.10/dist-packages (from wandb) (4.12.2)\nRequirement already satisfied: six>=1.4.0 in /usr/local/lib/python3.10/dist-packages (from docker-pycreds>=0.4.0->wandb) (1.16.0)\nRequirement already satisfied: gitdb<5,>=4.0.1 in /usr/local/lib/python3.10/dist-packages (from gitpython!=3.1.29,>=1.0.0->wandb) (4.0.11)\nRequirement already satisfied: annotated-types>=0.6.0 in /usr/local/lib/python3.10/dist-packages (from pydantic<3,>=2.6->wandb) (0.7.0)\nRequirement already satisfied: pydantic-core==2.23.4 in /usr/local/lib/python3.10/dist-packages (from pydantic<3,>=2.6->wandb) (2.23.4)\nRequirement already satisfied: charset-normalizer<4,>=2 in /usr/local/lib/python3.10/dist-packages (from requests<3,>=2.0.0->wandb) (3.3.2)\nRequirement already satisfied: idna<4,>=2.5 in /usr/local/lib/python3.10/dist-packages (from requests<3,>=2.0.0->wandb) (3.10)\nRequirement already satisfied: urllib3<3,>=1.21.1 in /usr/local/lib/python3.10/dist-packages (from requests<3,>=2.0.0->wandb) (2.2.3)\nRequirement already satisfied: certifi>=2017.4.17 in /usr/local/lib/python3.10/dist-packages (from requests<3,>=2.0.0->wandb) (2024.8.30)\nRequirement already satisfied: smmap<6,>=3.0.1 in /usr/local/lib/python3.10/dist-packages (from gitdb<5,>=4.0.1->gitpython!=3.1.29,>=1.0.0->wandb) (5.0.1)\nNote: you may need to restart the kernel to use updated packages.\n",
          "output_type": "stream"
        }
      ],
      "execution_count": null
    },
    {
      "id": "0bbfa86c-d09f-4004-bde1-ae430e7e06a5",
      "cell_type": "code",
      "source": [
        "import wandb\n",
        "wandb.login(key=\"934b841ba03cd8e2eeb66392d00f42a960cf28b1\")"
      ],
      "metadata": {
        "trusted": true,
        "execution": {
          "iopub.status.busy": "2024-12-23T05:18:53.812854Z",
          "iopub.execute_input": "2024-12-23T05:18:53.813169Z",
          "iopub.status.idle": "2024-12-23T05:19:02.131213Z",
          "shell.execute_reply.started": "2024-12-23T05:18:53.813142Z",
          "shell.execute_reply": "2024-12-23T05:19:02.130486Z"
        },
        "id": "0bbfa86c-d09f-4004-bde1-ae430e7e06a5",
        "outputId": "ff4c9897-15d1-41de-d789-0e126b49a977",
        "collapsed": true,
        "jupyter": {
          "outputs_hidden": true
        }
      },
      "outputs": [
        {
          "name": "stderr",
          "text": "\u001b[34m\u001b[1mwandb\u001b[0m: Using wandb-core as the SDK backend.  Please refer to https://wandb.me/wandb-core for more information.\n\u001b[34m\u001b[1mwandb\u001b[0m: Currently logged in as: \u001b[33mdouireky1\u001b[0m (\u001b[33mdouireky1-no-company\u001b[0m). Use \u001b[1m`wandb login --relogin`\u001b[0m to force relogin\n\u001b[34m\u001b[1mwandb\u001b[0m: \u001b[33mWARNING\u001b[0m If you're specifying your api key in code, ensure this code is not shared publicly.\n\u001b[34m\u001b[1mwandb\u001b[0m: \u001b[33mWARNING\u001b[0m Consider setting the WANDB_API_KEY environment variable, or running `wandb login` from the command line.\n\u001b[34m\u001b[1mwandb\u001b[0m: Appending key for api.wandb.ai to your netrc file: /root/.netrc\n",
          "output_type": "stream"
        },
        {
          "execution_count": 5,
          "output_type": "execute_result",
          "data": {
            "text/plain": "True"
          },
          "metadata": {}
        }
      ],
      "execution_count": null
    },
    {
      "id": "Xkjn3dO_WC83",
      "cell_type": "code",
      "source": [
        "pip install bert-score"
      ],
      "metadata": {
        "id": "Xkjn3dO_WC83",
        "trusted": true,
        "execution": {
          "iopub.status.busy": "2024-12-23T05:25:02.016434Z",
          "iopub.execute_input": "2024-12-23T05:25:02.016729Z",
          "iopub.status.idle": "2024-12-23T05:25:05.679223Z",
          "shell.execute_reply.started": "2024-12-23T05:25:02.016705Z",
          "shell.execute_reply": "2024-12-23T05:25:05.678368Z"
        },
        "collapsed": true,
        "jupyter": {
          "outputs_hidden": true
        },
        "outputId": "99ef2b78-9358-4531-f97f-9f7b43fabd02"
      },
      "outputs": [
        {
          "name": "stderr",
          "text": "/usr/lib/python3.10/pty.py:89: RuntimeWarning: os.fork() was called. os.fork() is incompatible with multithreaded code, and JAX is multithreaded, so this will likely lead to a deadlock.\n  pid, fd = os.forkpty()\n",
          "output_type": "stream"
        },
        {
          "name": "stdout",
          "text": "Collecting bert-score\n  Downloading bert_score-0.3.13-py3-none-any.whl.metadata (15 kB)\nRequirement already satisfied: torch>=1.0.0 in /usr/local/lib/python3.10/dist-packages (from bert-score) (2.4.1+cu121)\nRequirement already satisfied: pandas>=1.0.1 in /usr/local/lib/python3.10/dist-packages (from bert-score) (2.1.4)\nRequirement already satisfied: transformers>=3.0.0 in /usr/local/lib/python3.10/dist-packages (from bert-score) (4.44.2)\nRequirement already satisfied: numpy in /usr/local/lib/python3.10/dist-packages (from bert-score) (1.26.4)\nRequirement already satisfied: requests in /usr/local/lib/python3.10/dist-packages (from bert-score) (2.32.3)\nRequirement already satisfied: tqdm>=4.31.1 in /usr/local/lib/python3.10/dist-packages (from bert-score) (4.66.5)\nRequirement already satisfied: matplotlib in /usr/local/lib/python3.10/dist-packages (from bert-score) (3.7.1)\nRequirement already satisfied: packaging>=20.9 in /usr/local/lib/python3.10/dist-packages (from bert-score) (24.1)\nRequirement already satisfied: python-dateutil>=2.8.2 in /usr/local/lib/python3.10/dist-packages (from pandas>=1.0.1->bert-score) (2.8.2)\nRequirement already satisfied: pytz>=2020.1 in /usr/local/lib/python3.10/dist-packages (from pandas>=1.0.1->bert-score) (2024.2)\nRequirement already satisfied: tzdata>=2022.1 in /usr/local/lib/python3.10/dist-packages (from pandas>=1.0.1->bert-score) (2024.1)\nRequirement already satisfied: filelock in /usr/local/lib/python3.10/dist-packages (from torch>=1.0.0->bert-score) (3.16.1)\nRequirement already satisfied: typing-extensions>=4.8.0 in /usr/local/lib/python3.10/dist-packages (from torch>=1.0.0->bert-score) (4.12.2)\nRequirement already satisfied: sympy in /usr/local/lib/python3.10/dist-packages (from torch>=1.0.0->bert-score) (1.13.3)\nRequirement already satisfied: networkx in /usr/local/lib/python3.10/dist-packages (from torch>=1.0.0->bert-score) (3.3)\nRequirement already satisfied: jinja2 in /usr/local/lib/python3.10/dist-packages (from torch>=1.0.0->bert-score) (3.1.4)\nRequirement already satisfied: fsspec in /usr/local/lib/python3.10/dist-packages (from torch>=1.0.0->bert-score) (2024.6.1)\nRequirement already satisfied: huggingface-hub<1.0,>=0.23.2 in /usr/local/lib/python3.10/dist-packages (from transformers>=3.0.0->bert-score) (0.24.7)\nRequirement already satisfied: pyyaml>=5.1 in /usr/local/lib/python3.10/dist-packages (from transformers>=3.0.0->bert-score) (6.0.2)\nRequirement already satisfied: regex!=2019.12.17 in /usr/local/lib/python3.10/dist-packages (from transformers>=3.0.0->bert-score) (2024.9.11)\nRequirement already satisfied: safetensors>=0.4.1 in /usr/local/lib/python3.10/dist-packages (from transformers>=3.0.0->bert-score) (0.4.5)\nRequirement already satisfied: tokenizers<0.20,>=0.19 in /usr/local/lib/python3.10/dist-packages (from transformers>=3.0.0->bert-score) (0.19.1)\nRequirement already satisfied: contourpy>=1.0.1 in /usr/local/lib/python3.10/dist-packages (from matplotlib->bert-score) (1.3.0)\nRequirement already satisfied: cycler>=0.10 in /usr/local/lib/python3.10/dist-packages (from matplotlib->bert-score) (0.12.1)\nRequirement already satisfied: fonttools>=4.22.0 in /usr/local/lib/python3.10/dist-packages (from matplotlib->bert-score) (4.53.1)\nRequirement already satisfied: kiwisolver>=1.0.1 in /usr/local/lib/python3.10/dist-packages (from matplotlib->bert-score) (1.4.7)\nRequirement already satisfied: pillow>=6.2.0 in /usr/local/lib/python3.10/dist-packages (from matplotlib->bert-score) (10.4.0)\nRequirement already satisfied: pyparsing>=2.3.1 in /usr/local/lib/python3.10/dist-packages (from matplotlib->bert-score) (3.1.4)\nRequirement already satisfied: charset-normalizer<4,>=2 in /usr/local/lib/python3.10/dist-packages (from requests->bert-score) (3.3.2)\nRequirement already satisfied: idna<4,>=2.5 in /usr/local/lib/python3.10/dist-packages (from requests->bert-score) (3.10)\nRequirement already satisfied: urllib3<3,>=1.21.1 in /usr/local/lib/python3.10/dist-packages (from requests->bert-score) (2.2.3)\nRequirement already satisfied: certifi>=2017.4.17 in /usr/local/lib/python3.10/dist-packages (from requests->bert-score) (2024.8.30)\nRequirement already satisfied: six>=1.5 in /usr/local/lib/python3.10/dist-packages (from python-dateutil>=2.8.2->pandas>=1.0.1->bert-score) (1.16.0)\nRequirement already satisfied: MarkupSafe>=2.0 in /usr/local/lib/python3.10/dist-packages (from jinja2->torch>=1.0.0->bert-score) (2.1.5)\nRequirement already satisfied: mpmath<1.4,>=1.1.0 in /usr/local/lib/python3.10/dist-packages (from sympy->torch>=1.0.0->bert-score) (1.3.0)\nDownloading bert_score-0.3.13-py3-none-any.whl (61 kB)\n\u001b[2K   \u001b[90m━━━━━━━━━━━━━━━━━━━━━━━━━━━━━━━━━━━━━━━━\u001b[0m \u001b[32m61.1/61.1 kB\u001b[0m \u001b[31m2.2 MB/s\u001b[0m eta \u001b[36m0:00:00\u001b[0m\n\u001b[?25hInstalling collected packages: bert-score\nSuccessfully installed bert-score-0.3.13\nNote: you may need to restart the kernel to use updated packages.\n",
          "output_type": "stream"
        }
      ],
      "execution_count": null
    },
    {
      "id": "dcaa4174-2fb5-4e14-951f-91a3db5c1e9e",
      "cell_type": "markdown",
      "source": [
        "**Changing Hyperparameters**"
      ],
      "metadata": {
        "id": "dcaa4174-2fb5-4e14-951f-91a3db5c1e9e"
      }
    },
    {
      "id": "929ef457-7ac4-4cee-8ff9-3b1026db9b47",
      "cell_type": "markdown",
      "source": [
        "We noticed there might be some **Overfitting** so we decided to change some hyperparameters :\n",
        "weight decay : 0.01 ---> 0.1\n",
        "learning rate : 2e-5 ---> 1e-5\n",
        "batch size : 16 ---> 8\n",
        "we also implemented **Early Stopping**"
      ],
      "metadata": {
        "id": "929ef457-7ac4-4cee-8ff9-3b1026db9b47"
      }
    },
    {
      "id": "82216544-855b-440d-a82d-63363af852bd",
      "cell_type": "code",
      "source": [
        "from transformers import Trainer, TrainingArguments, EarlyStoppingCallback\n",
        "\n",
        "model = BertForSequenceClassification.from_pretrained(MODEL_NAME, num_labels=len(categories))\n",
        "model.to(\"cuda\" if torch.cuda.is_available() else \"cpu\")\n",
        "\n",
        "def compute_metrics(eval_pred):\n",
        "    logits, labels = eval_pred\n",
        "    predictions = torch.argmax(torch.tensor(logits), dim=-1).numpy()\n",
        "    accuracy = accuracy_score(labels, predictions)\n",
        "    return {\"accuracy\": accuracy}\n",
        "\n",
        "training_args = TrainingArguments(\n",
        "    output_dir=\"./bert_standard_results\",\n",
        "    evaluation_strategy=\"epoch\",\n",
        "    save_strategy=\"epoch\",\n",
        "    learning_rate=1e-5,\n",
        "    per_device_train_batch_size=8,\n",
        "    num_train_epochs=1,\n",
        "    weight_decay=0.1,\n",
        "    logging_dir=\"./logs\",\n",
        "    logging_steps=10,\n",
        "    load_best_model_at_end=True,\n",
        "    metric_for_best_model=\"accuracy\",\n",
        ")\n",
        "trainer = Trainer(\n",
        "    model=model,\n",
        "    args=training_args,\n",
        "    train_dataset=train_dataset,\n",
        "    eval_dataset=val_dataset,\n",
        "    tokenizer=tokenizer,\n",
        "    compute_metrics=compute_metrics,\n",
        "    callbacks=[EarlyStoppingCallback(early_stopping_patience=2)],\n",
        ")\n",
        "trainer.train()\n",
        "model.save_pretrained(\"./bert_standard_model\")\n",
        "tokenizer.save_pretrained(\"./bert_standard_model\")\n",
        "print(\"Modèle BERT standard entraîné et sauvegardé.\")"
      ],
      "metadata": {
        "trusted": true,
        "execution": {
          "iopub.status.busy": "2024-12-23T05:19:45.249312Z",
          "iopub.execute_input": "2024-12-23T05:19:45.250064Z",
          "iopub.status.idle": "2024-12-23T05:24:07.69528Z",
          "shell.execute_reply.started": "2024-12-23T05:19:45.249947Z",
          "shell.execute_reply": "2024-12-23T05:24:07.694476Z"
        },
        "id": "82216544-855b-440d-a82d-63363af852bd",
        "outputId": "515c5078-8433-4a1c-c531-41c82cb92cd4",
        "colab": {
          "referenced_widgets": [
            "5c706e134ce346c1a806411496460acd"
          ]
        }
      },
      "outputs": [
        {
          "output_type": "display_data",
          "data": {
            "text/plain": "model.safetensors:   0%|          | 0.00/543M [00:00<?, ?B/s]",
            "application/vnd.jupyter.widget-view+json": {
              "version_major": 2,
              "version_minor": 0,
              "model_id": "5c706e134ce346c1a806411496460acd"
            }
          },
          "metadata": {}
        },
        {
          "name": "stderr",
          "text": "Some weights of BertForSequenceClassification were not initialized from the model checkpoint at aubmindlab/bert-base-arabertv2 and are newly initialized: ['classifier.bias', 'classifier.weight']\nYou should probably TRAIN this model on a down-stream task to be able to use it for predictions and inference.\n/usr/local/lib/python3.10/dist-packages/transformers/training_args.py:1525: FutureWarning: `evaluation_strategy` is deprecated and will be removed in version 4.46 of 🤗 Transformers. Use `eval_strategy` instead\n  warnings.warn(\n\u001b[34m\u001b[1mwandb\u001b[0m: \u001b[33mWARNING\u001b[0m The `run_name` is currently set to the same value as `TrainingArguments.output_dir`. If this was not intended, please specify a different run name by setting the `TrainingArguments.run_name` parameter.\n",
          "output_type": "stream"
        },
        {
          "output_type": "display_data",
          "data": {
            "text/plain": "<IPython.core.display.HTML object>",
            "text/html": "Tracking run with wandb version 0.19.1"
          },
          "metadata": {}
        },
        {
          "output_type": "display_data",
          "data": {
            "text/plain": "<IPython.core.display.HTML object>",
            "text/html": "Run data is saved locally in <code>/kaggle/working/wandb/run-20241223_051950-mpp2ca0t</code>"
          },
          "metadata": {}
        },
        {
          "output_type": "display_data",
          "data": {
            "text/plain": "<IPython.core.display.HTML object>",
            "text/html": "Syncing run <strong><a href='https://wandb.ai/douireky1-no-company/huggingface/runs/mpp2ca0t' target=\"_blank\">./bert_standard_results</a></strong> to <a href='https://wandb.ai/douireky1-no-company/huggingface' target=\"_blank\">Weights & Biases</a> (<a href='https://wandb.me/developer-guide' target=\"_blank\">docs</a>)<br>"
          },
          "metadata": {}
        },
        {
          "output_type": "display_data",
          "data": {
            "text/plain": "<IPython.core.display.HTML object>",
            "text/html": " View project at <a href='https://wandb.ai/douireky1-no-company/huggingface' target=\"_blank\">https://wandb.ai/douireky1-no-company/huggingface</a>"
          },
          "metadata": {}
        },
        {
          "output_type": "display_data",
          "data": {
            "text/plain": "<IPython.core.display.HTML object>",
            "text/html": " View run at <a href='https://wandb.ai/douireky1-no-company/huggingface/runs/mpp2ca0t' target=\"_blank\">https://wandb.ai/douireky1-no-company/huggingface/runs/mpp2ca0t</a>"
          },
          "metadata": {}
        },
        {
          "output_type": "display_data",
          "data": {
            "text/plain": "<IPython.core.display.HTML object>",
            "text/html": "\n    <div>\n      \n      <progress value='1874' max='1874' style='width:300px; height:20px; vertical-align: middle;'></progress>\n      [1874/1874 04:08, Epoch 1/1]\n    </div>\n    <table border=\"1\" class=\"dataframe\">\n  <thead>\n <tr style=\"text-align: left;\">\n      <th>Epoch</th>\n      <th>Training Loss</th>\n      <th>Validation Loss</th>\n      <th>Accuracy</th>\n    </tr>\n  </thead>\n  <tbody>\n    <tr>\n      <td>1</td>\n      <td>0.016000</td>\n      <td>0.057768</td>\n      <td>0.987988</td>\n    </tr>\n  </tbody>\n</table><p>"
          },
          "metadata": {}
        },
        {
          "name": "stdout",
          "text": "Modèle BERT standard entraîné et sauvegardé.\n",
          "output_type": "stream"
        }
      ],
      "execution_count": null
    },
    {
      "id": "f4fb20f6-6708-4865-8175-45f2c7be1401",
      "cell_type": "markdown",
      "source": [
        "The **Training** stopped at epoch 3 instead of 5 due to the **Early Stopping** implemented because the validation performance stopped improving."
      ],
      "metadata": {
        "id": "f4fb20f6-6708-4865-8175-45f2c7be1401"
      }
    },
    {
      "id": "99d2c30c-d49a-425f-b093-5eecbf5c90a2",
      "cell_type": "code",
      "source": [
        "from bert_score import score\n",
        "\n",
        "ground_truths = [\"النص الحقيقي ١\", \"النص الحقيقي ٢\", \"النص الحقيقي ٣\"]\n",
        "predictions = [\"النص المتوقع ١\", \"النص المتوقع ٢\", \"النص المتوقع ٣\"]\n",
        "\n",
        "P, R, F1 = score(predictions, ground_truths, lang=\"ar\")\n",
        "print(f\"BERTScore Precision: {P.mean().item()}\")\n",
        "print(f\"BERTScore Recall: {R.mean().item()}\")\n",
        "print(f\"BERTScore F1: {F1.mean().item()}\")"
      ],
      "metadata": {
        "trusted": true,
        "execution": {
          "iopub.status.busy": "2024-12-23T05:25:12.006278Z",
          "iopub.execute_input": "2024-12-23T05:25:12.006595Z",
          "iopub.status.idle": "2024-12-23T05:25:17.94272Z",
          "shell.execute_reply.started": "2024-12-23T05:25:12.00657Z",
          "shell.execute_reply": "2024-12-23T05:25:17.941863Z"
        },
        "id": "99d2c30c-d49a-425f-b093-5eecbf5c90a2",
        "outputId": "1f634eff-ef0e-45b6-94fb-febd922faf23",
        "colab": {
          "referenced_widgets": [
            "c4c952d89fec42c88036380281d104b5",
            "dada157aea17436f80b1291e37118356",
            "6d8c54ad246a4ae7ad9d0ca677174df0",
            "75f5a93fd24c40d0872ea7b7493fee6f",
            "c3d5d263282a4881a0c09641e88d9791"
          ]
        }
      },
      "outputs": [
        {
          "output_type": "display_data",
          "data": {
            "text/plain": "tokenizer_config.json:   0%|          | 0.00/49.0 [00:00<?, ?B/s]",
            "application/vnd.jupyter.widget-view+json": {
              "version_major": 2,
              "version_minor": 0,
              "model_id": "c4c952d89fec42c88036380281d104b5"
            }
          },
          "metadata": {}
        },
        {
          "output_type": "display_data",
          "data": {
            "text/plain": "config.json:   0%|          | 0.00/625 [00:00<?, ?B/s]",
            "application/vnd.jupyter.widget-view+json": {
              "version_major": 2,
              "version_minor": 0,
              "model_id": "dada157aea17436f80b1291e37118356"
            }
          },
          "metadata": {}
        },
        {
          "output_type": "display_data",
          "data": {
            "text/plain": "vocab.txt:   0%|          | 0.00/996k [00:00<?, ?B/s]",
            "application/vnd.jupyter.widget-view+json": {
              "version_major": 2,
              "version_minor": 0,
              "model_id": "6d8c54ad246a4ae7ad9d0ca677174df0"
            }
          },
          "metadata": {}
        },
        {
          "output_type": "display_data",
          "data": {
            "text/plain": "tokenizer.json:   0%|          | 0.00/1.96M [00:00<?, ?B/s]",
            "application/vnd.jupyter.widget-view+json": {
              "version_major": 2,
              "version_minor": 0,
              "model_id": "75f5a93fd24c40d0872ea7b7493fee6f"
            }
          },
          "metadata": {}
        },
        {
          "name": "stderr",
          "text": "/usr/local/lib/python3.10/dist-packages/transformers/tokenization_utils_base.py:1601: FutureWarning: `clean_up_tokenization_spaces` was not set. It will be set to `True` by default. This behavior will be depracted in transformers v4.45, and will be then set to `False` by default. For more details check this issue: https://github.com/huggingface/transformers/issues/31884\n  warnings.warn(\n",
          "output_type": "stream"
        },
        {
          "output_type": "display_data",
          "data": {
            "text/plain": "model.safetensors:   0%|          | 0.00/714M [00:00<?, ?B/s]",
            "application/vnd.jupyter.widget-view+json": {
              "version_major": 2,
              "version_minor": 0,
              "model_id": "c3d5d263282a4881a0c09641e88d9791"
            }
          },
          "metadata": {}
        },
        {
          "name": "stdout",
          "text": "BERTScore Precision: 0.8417925834655762\nBERTScore Recall: 0.8908848166465759\nBERTScore F1: 0.8656415343284607\n",
          "output_type": "stream"
        }
      ],
      "execution_count": null
    },
    {
      "id": "1X39Pk4aWEJ8",
      "cell_type": "markdown",
      "source": [],
      "metadata": {
        "id": "1X39Pk4aWEJ8"
      }
    },
    {
      "id": "ccb8f997",
      "cell_type": "markdown",
      "source": [
        "**Implémentation de l’Attention Différentielle**"
      ],
      "metadata": {
        "papermill": {
          "duration": 0.070427,
          "end_time": "2024-12-17T22:40:10.296677",
          "exception": false,
          "start_time": "2024-12-17T22:40:10.22625",
          "status": "completed"
        },
        "tags": [],
        "id": "ccb8f997"
      }
    },
    {
      "id": "0ab236a8-83f3-46cd-8b8b-7fa3e62c45c9",
      "cell_type": "code",
      "source": [
        "import torch\n",
        "import torch.nn as nn\n",
        "import math\n",
        "\n",
        "class DifferentialMultiHeadAttention(nn.Module):\n",
        "    \"\"\"\n",
        "    A custom multi-head attention module implementing your 'differential' mechanism.\n",
        "    This skeleton demonstrates how you might plug into an existing Transformer stack.\n",
        "    \"\"\"\n",
        "\n",
        "    def __init__(self, hidden_size, num_attention_heads, attention_probs_dropout_prob=0.1):\n",
        "        super().__init__()\n",
        "        if hidden_size % num_attention_heads != 0:\n",
        "            raise ValueError(\n",
        "                f\"The hidden size ({hidden_size}) is not a multiple of the number of attention heads ({num_attention_heads})\"\n",
        "            )\n",
        "        self.num_attention_heads = num_attention_heads\n",
        "        self.head_dim = hidden_size // num_attention_heads\n",
        "\n",
        "        self.query = nn.Linear(hidden_size, hidden_size)\n",
        "        self.key = nn.Linear(hidden_size, hidden_size)\n",
        "        self.value = nn.Linear(hidden_size, hidden_size)\n",
        "\n",
        "        self.dropout = nn.Dropout(attention_probs_dropout_prob)\n",
        "        self.out_proj = nn.Linear(hidden_size, hidden_size)\n",
        "\n",
        "        self.differential_param = nn.Parameter(torch.ones(self.num_attention_heads))\n",
        "\n",
        "    def transpose_for_scores(self, x):\n",
        "        \"\"\"\n",
        "        Reshape the input tensor so we can handle multiple heads in parallel.\n",
        "        \"\"\"\n",
        "        new_shape = x.size()[:-1] + (self.num_attention_heads, self.head_dim)\n",
        "        x = x.view(*new_shape)\n",
        "        return x.permute(0, 2, 1, 3)\n",
        "\n",
        "    def forward(self, hidden_states, attention_mask=None):\n",
        "        \"\"\"\n",
        "        hidden_states: (batch_size, seq_len, hidden_size)\n",
        "        attention_mask: (batch_size, 1, 1, seq_len) or similar shape with 0 / -inf for masking\n",
        "        \"\"\"\n",
        "        # 1) Project to query, key, value\n",
        "        query_layer = self.transpose_for_scores(self.query(hidden_states))\n",
        "        key_layer   = self.transpose_for_scores(self.key(hidden_states))\n",
        "        value_layer = self.transpose_for_scores(self.value(hidden_states))\n",
        "\n",
        "        # 2) Compute raw attention scores\n",
        "        attention_scores = torch.matmul(query_layer, key_layer.transpose(-1, -2))\n",
        "        attention_scores = attention_scores / math.sqrt(self.head_dim)\n",
        "\n",
        "        # 3) Apply attention mask (e.g., padding or causal mask)\n",
        "        if attention_mask is not None:\n",
        "            attention_scores = attention_scores + attention_mask\n",
        "\n",
        "        # 4) Convert to probabilities with softmax\n",
        "        attention_probs = nn.functional.softmax(attention_scores, dim=-1)\n",
        "\n",
        "        # 5) Apply custom differential logic\n",
        "        attention_probs = attention_probs * self.differential_param.view(1, -1, 1, 1)\n",
        "\n",
        "        # 6) Dropout on attention probs\n",
        "        attention_probs = self.dropout(attention_probs)\n",
        "\n",
        "        # 7) Compute context\n",
        "        context_layer = torch.matmul(attention_probs, value_layer)\n",
        "\n",
        "        # 8) Reshape back\n",
        "        context_layer = context_layer.permute(0, 2, 1, 3).contiguous()\n",
        "        new_context_shape = context_layer.size()[:-2] + (self.num_attention_heads * self.head_dim,)\n",
        "        context_layer = context_layer.view(*new_context_shape)\n",
        "\n",
        "        # 9) Output projection\n",
        "        attention_output = self.out_proj(context_layer)\n",
        "\n",
        "        return attention_output\n"
      ],
      "metadata": {
        "trusted": true,
        "execution": {
          "iopub.status.busy": "2024-12-23T05:47:50.226994Z",
          "iopub.execute_input": "2024-12-23T05:47:50.227374Z",
          "iopub.status.idle": "2024-12-23T05:47:50.236888Z",
          "shell.execute_reply.started": "2024-12-23T05:47:50.227339Z",
          "shell.execute_reply": "2024-12-23T05:47:50.236011Z"
        },
        "id": "0ab236a8-83f3-46cd-8b8b-7fa3e62c45c9"
      },
      "outputs": [],
      "execution_count": null
    },
    {
      "id": "3e1c934c-a051-4f7f-9afc-d817e7f587ed",
      "cell_type": "code",
      "source": [
        "import random\n",
        "from transformers import BertForSequenceClassification, BertConfig\n",
        "\n",
        "def replace_bert_attention_layers(model, fraction=0.25):\n",
        "    \"\"\"\n",
        "    Replace a fraction of BERT's self-attention modules with the custom DifferentialMultiHeadAttention.\n",
        "    fraction: float (0.25 means 25% of the layers)\n",
        "    \"\"\"\n",
        "\n",
        "    # The BERT encoder layers\n",
        "    layers = model.bert.encoder.layer\n",
        "    num_layers = len(layers)\n",
        "    num_replace = int(num_layers * fraction)\n",
        "\n",
        "    # Randomly pick which layers to replace\n",
        "    indices_to_replace = random.sample(range(num_layers), num_replace)\n",
        "\n",
        "    for idx in indices_to_replace:\n",
        "        bert_self_attention = layers[idx].attention.self  # The original self-attention\n",
        "\n",
        "        hidden_size = bert_self_attention.all_head_size\n",
        "        num_heads = bert_self_attention.num_attention_heads\n",
        "        dropout_prob = bert_self_attention.dropout.p if bert_self_attention.dropout is not None else 0.1\n",
        "\n",
        "        # Create an instance of our differential attention\n",
        "        diff_attention = DifferentialMultiHeadAttention(\n",
        "            hidden_size=hidden_size,\n",
        "            num_attention_heads=num_heads,\n",
        "            attention_probs_dropout_prob=dropout_prob\n",
        "        )\n",
        "\n",
        "        # Replace the original self-attention module\n",
        "        layers[idx].attention.self = diff_attention\n",
        "\n",
        "    print(f\"Replaced {num_replace} out of {num_layers} layers with DifferentialMultiHeadAttention.\")\n"
      ],
      "metadata": {
        "trusted": true,
        "execution": {
          "iopub.status.busy": "2024-12-23T05:47:54.97038Z",
          "iopub.execute_input": "2024-12-23T05:47:54.970719Z",
          "iopub.status.idle": "2024-12-23T05:47:54.97696Z",
          "shell.execute_reply.started": "2024-12-23T05:47:54.970692Z",
          "shell.execute_reply": "2024-12-23T05:47:54.976196Z"
        },
        "id": "3e1c934c-a051-4f7f-9afc-d817e7f587ed"
      },
      "outputs": [],
      "execution_count": null
    },
    {
      "id": "57bfa9ae-5c53-4dae-9d0e-ca1061ab4419",
      "cell_type": "code",
      "source": [
        "from transformers import TrainingArguments, Trainer\n",
        "\n",
        "training_args = TrainingArguments(\n",
        "    output_dir=\"./bert_differential_attention_results\",\n",
        "    evaluation_strategy=\"epoch\",\n",
        "    save_strategy=\"epoch\",\n",
        "    learning_rate=1e-5,\n",
        "    per_device_train_batch_size=8,\n",
        "    num_train_epochs=3,\n",
        "    weight_decay=0.1,\n",
        "    logging_dir=\"./logs\",\n",
        "    logging_steps=10,\n",
        "    load_best_model_at_end=True,\n",
        "    metric_for_best_model=\"accuracy\",\n",
        ")\n",
        "\n",
        "# Suppose 'train_dataset', 'val_dataset' are already tokenized HF Datasets\n",
        "trainer = Trainer(\n",
        "    model=model,  # <-- Our partially replaced model\n",
        "    args=training_args,\n",
        "    train_dataset=train_dataset,\n",
        "    eval_dataset=val_dataset,\n",
        "    tokenizer=tokenizer,\n",
        "    compute_metrics=compute_metrics,   # define your compute_metrics function\n",
        ")\n",
        "\n",
        "trainer.train()"
      ],
      "metadata": {
        "trusted": true,
        "execution": {
          "iopub.status.busy": "2024-12-23T05:47:59.086801Z",
          "iopub.execute_input": "2024-12-23T05:47:59.087155Z",
          "iopub.status.idle": "2024-12-23T06:00:20.818335Z",
          "shell.execute_reply.started": "2024-12-23T05:47:59.087124Z",
          "shell.execute_reply": "2024-12-23T06:00:20.817643Z"
        },
        "id": "57bfa9ae-5c53-4dae-9d0e-ca1061ab4419",
        "outputId": "d0fb5f78-8a8b-4582-b568-c032022d9ba9"
      },
      "outputs": [
        {
          "name": "stderr",
          "text": "/usr/local/lib/python3.10/dist-packages/transformers/training_args.py:1525: FutureWarning: `evaluation_strategy` is deprecated and will be removed in version 4.46 of 🤗 Transformers. Use `eval_strategy` instead\n  warnings.warn(\n",
          "output_type": "stream"
        },
        {
          "output_type": "display_data",
          "data": {
            "text/plain": "<IPython.core.display.HTML object>",
            "text/html": "\n    <div>\n      \n      <progress value='5622' max='5622' style='width:300px; height:20px; vertical-align: middle;'></progress>\n      [5622/5622 12:21, Epoch 3/3]\n    </div>\n    <table border=\"1\" class=\"dataframe\">\n  <thead>\n <tr style=\"text-align: left;\">\n      <th>Epoch</th>\n      <th>Training Loss</th>\n      <th>Validation Loss</th>\n      <th>Accuracy</th>\n    </tr>\n  </thead>\n  <tbody>\n    <tr>\n      <td>1</td>\n      <td>0.000200</td>\n      <td>0.096292</td>\n      <td>0.986787</td>\n    </tr>\n    <tr>\n      <td>2</td>\n      <td>0.251900</td>\n      <td>0.097387</td>\n      <td>0.986787</td>\n    </tr>\n    <tr>\n      <td>3</td>\n      <td>0.000100</td>\n      <td>0.095400</td>\n      <td>0.986787</td>\n    </tr>\n  </tbody>\n</table><p>"
          },
          "metadata": {}
        },
        {
          "execution_count": 17,
          "output_type": "execute_result",
          "data": {
            "text/plain": "TrainOutput(global_step=5622, training_loss=0.01065941272748644, metrics={'train_runtime': 741.223, 'train_samples_per_second': 60.65, 'train_steps_per_second': 7.585, 'total_flos': 2957119023617280.0, 'train_loss': 0.01065941272748644, 'epoch': 3.0})"
          },
          "metadata": {}
        }
      ],
      "execution_count": null
    },
    {
      "id": "15ffc604-573a-4ac0-ac3e-02619ed6d755",
      "cell_type": "code",
      "source": [
        "test_metrics = trainer.evaluate(test_dataset)\n",
        "print(\"Test Metrics with partial differential attention:\", test_metrics)"
      ],
      "metadata": {
        "trusted": true,
        "execution": {
          "iopub.status.busy": "2024-12-23T06:00:20.81931Z",
          "iopub.execute_input": "2024-12-23T06:00:20.819613Z",
          "iopub.status.idle": "2024-12-23T06:00:28.483996Z",
          "shell.execute_reply.started": "2024-12-23T06:00:20.81959Z",
          "shell.execute_reply": "2024-12-23T06:00:28.483096Z"
        },
        "id": "15ffc604-573a-4ac0-ac3e-02619ed6d755",
        "outputId": "d039cfb2-250f-4cd0-9ce0-bec96278ddad"
      },
      "outputs": [
        {
          "output_type": "display_data",
          "data": {
            "text/plain": "<IPython.core.display.HTML object>",
            "text/html": "\n    <div>\n      \n      <progress value='464' max='232' style='width:300px; height:20px; vertical-align: middle;'></progress>\n      [232/232 11:00]\n    </div>\n    "
          },
          "metadata": {}
        },
        {
          "name": "stdout",
          "text": "Test Metrics with partial differential attention: {'eval_loss': 0.10592851042747498, 'eval_accuracy': 0.985945945945946, 'eval_runtime': 7.6536, 'eval_samples_per_second': 241.718, 'eval_steps_per_second': 30.313, 'epoch': 3.0}\n",
          "output_type": "stream"
        }
      ],
      "execution_count": null
    },
    {
      "id": "ba166565-ce3d-452f-ba4c-377284a11121",
      "cell_type": "code",
      "source": [
        "from bert_score import score\n",
        "\n",
        "predictions = [\"النص المتوقع ١\", \"النص المتوقع ٢\", \"النص المتوقع ٣\"]\n",
        "references  = [\"النص الحقيقي ١\", \"النص الحقيقي ٢\", \"النص الحقيقي ٣\"]\n",
        "\n",
        "P, R, F1 = score(predictions, references, lang=\"ar\")\n",
        "print(f\"BERTScore (P, R, F1): {P.mean().item()}, {R.mean().item()}, {F1.mean().item()}\")"
      ],
      "metadata": {
        "trusted": true,
        "execution": {
          "iopub.status.busy": "2024-12-23T06:00:32.389958Z",
          "iopub.execute_input": "2024-12-23T06:00:32.390302Z",
          "iopub.status.idle": "2024-12-23T06:00:33.223362Z",
          "shell.execute_reply.started": "2024-12-23T06:00:32.390275Z",
          "shell.execute_reply": "2024-12-23T06:00:33.222564Z"
        },
        "id": "ba166565-ce3d-452f-ba4c-377284a11121",
        "outputId": "ce7700fc-b9fc-4b9b-deea-bea505974160"
      },
      "outputs": [
        {
          "name": "stderr",
          "text": "/usr/local/lib/python3.10/dist-packages/transformers/tokenization_utils_base.py:1601: FutureWarning: `clean_up_tokenization_spaces` was not set. It will be set to `True` by default. This behavior will be depracted in transformers v4.45, and will be then set to `False` by default. For more details check this issue: https://github.com/huggingface/transformers/issues/31884\n  warnings.warn(\n",
          "output_type": "stream"
        },
        {
          "name": "stdout",
          "text": "BERTScore (P, R, F1): 0.8417925834655762, 0.8908848166465759, 0.8656415343284607\n",
          "output_type": "stream"
        }
      ],
      "execution_count": null
    },
    {
      "cell_type": "markdown",
      "source": [
        "**Saving the model**"
      ],
      "metadata": {
        "id": "L-rrmIyzKCFL"
      },
      "id": "L-rrmIyzKCFL"
    },
    {
      "id": "a54bd4e4-1ed3-44ca-b563-4690cef23700",
      "cell_type": "code",
      "source": [
        "save_directory = \"./bert_differential_attention_model\"\n",
        "model.save_pretrained(save_directory)\n",
        "tokenizer.save_pretrained(save_directory)\n",
        "\n",
        "print(f\"Model and tokenizer saved to {save_directory}\")"
      ],
      "metadata": {
        "trusted": true,
        "id": "a54bd4e4-1ed3-44ca-b563-4690cef23700",
        "execution": {
          "iopub.status.busy": "2024-12-23T06:09:14.581131Z",
          "iopub.execute_input": "2024-12-23T06:09:14.581494Z",
          "iopub.status.idle": "2024-12-23T06:09:15.886126Z",
          "shell.execute_reply.started": "2024-12-23T06:09:14.581465Z",
          "shell.execute_reply": "2024-12-23T06:09:15.885116Z"
        },
        "outputId": "ac4ca882-e77b-4bdd-85aa-b01f0e09762c"
      },
      "outputs": [
        {
          "name": "stdout",
          "text": "Model and tokenizer saved to ./bert_differential_attention_model\n",
          "output_type": "stream"
        }
      ],
      "execution_count": null
    },
    {
      "cell_type": "markdown",
      "source": [
        "**Testing:**"
      ],
      "metadata": {
        "id": "qVVeK6aRJ7T7"
      },
      "id": "qVVeK6aRJ7T7"
    },
    {
      "id": "f90e3ecd-d18f-4186-9736-c52ed6d611b8",
      "cell_type": "code",
      "source": [
        "from transformers import BertTokenizer, BertForSequenceClassification\n",
        "\n",
        "# Load the fine-tuned model and tokenizer\n",
        "save_directory = \"./bert_differential_attention_model\"\n",
        "loaded_model = BertForSequenceClassification.from_pretrained(save_directory)\n",
        "loaded_tokenizer = BertTokenizer.from_pretrained(save_directory)\n",
        "\n",
        "print(\"Model and tokenizer successfully loaded!\")"
      ],
      "metadata": {
        "trusted": true,
        "execution": {
          "iopub.status.busy": "2024-12-23T06:09:37.905053Z",
          "iopub.execute_input": "2024-12-23T06:09:37.905399Z",
          "iopub.status.idle": "2024-12-23T06:09:38.05589Z",
          "shell.execute_reply.started": "2024-12-23T06:09:37.90537Z",
          "shell.execute_reply": "2024-12-23T06:09:38.054947Z"
        },
        "id": "f90e3ecd-d18f-4186-9736-c52ed6d611b8",
        "outputId": "a8c0b02a-750a-432f-d904-85fc55b58768"
      },
      "outputs": [
        {
          "name": "stdout",
          "text": "Model and tokenizer successfully loaded!\n",
          "output_type": "stream"
        }
      ],
      "execution_count": null
    },
    {
      "id": "010ad7a7-c723-410b-af70-0e2c183965e0",
      "cell_type": "code",
      "source": [
        "import torch\n",
        "from transformers import pipeline\n",
        "\n",
        "# Test data\n",
        "test_texts = [\n",
        "    \"هذا النص ينتمي إلى فئة التقنية.\",\n",
        "    \"اللهم لا تجعلنا مقبلين على ما يضرنا.\",\n",
        "    \"أسعار الأسهم ترتفع بشكل كبير.\"\n",
        "]\n",
        "\n",
        "# Tokenize the input texts\n",
        "test_encodings = loaded_tokenizer(\n",
        "    test_texts,\n",
        "    truncation=True,\n",
        "    padding=True,\n",
        "    max_length=128,\n",
        "    return_tensors=\"pt\"  # Return PyTorch tensors\n",
        ")\n",
        "\n",
        "# Move tensors to the same device as the model\n",
        "device = \"cuda\" if torch.cuda.is_available() else \"cpu\"\n",
        "loaded_model.to(device)\n",
        "test_encodings = {key: val.to(device) for key, val in test_encodings.items()}\n",
        "\n",
        "# Get predictions\n",
        "with torch.no_grad():\n",
        "    outputs = loaded_model(**test_encodings)\n",
        "    logits = outputs.logits\n",
        "    predictions = torch.argmax(logits, dim=-1)\n",
        "\n",
        "# Map numeric predictions back to labels\n",
        "inverse_label_mapping = {v: k for k, v in label_mapping.items()}\n",
        "predicted_labels = [inverse_label_mapping[pred.item()] for pred in predictions]\n",
        "\n",
        "# Print results\n",
        "for text, label in zip(test_texts, predicted_labels):\n",
        "    print(f\"Text: {text}\\nPredicted Label: {label}\\n\")"
      ],
      "metadata": {
        "trusted": true,
        "execution": {
          "iopub.status.busy": "2024-12-23T06:09:58.98552Z",
          "iopub.execute_input": "2024-12-23T06:09:58.985854Z",
          "iopub.status.idle": "2024-12-23T06:09:59.564798Z",
          "shell.execute_reply.started": "2024-12-23T06:09:58.985827Z",
          "shell.execute_reply": "2024-12-23T06:09:59.564086Z"
        },
        "id": "010ad7a7-c723-410b-af70-0e2c183965e0",
        "outputId": "9170f1ab-7720-4717-f2e5-164b41021d61"
      },
      "outputs": [
        {
          "name": "stdout",
          "text": "Text: هذا النص ينتمي إلى فئة التقنية.\nPredicted Label: Tech\n\nText: اللهم لا تجعلنا مقبلين على ما يضرنا.\nPredicted Label: Finance\n\nText: أسعار الأسهم ترتفع بشكل كبير.\nPredicted Label: Finance\n\n",
          "output_type": "stream"
        }
      ],
      "execution_count": null
    },
    {
      "id": "1413282b-3812-49dd-9cad-129d6218c766",
      "cell_type": "code",
      "source": [
        "from bert_score import score\n",
        "\n",
        "# Ground truth labels and predictions (example)\n",
        "ground_truths = [\n",
        "    \"هذا النص ينتمي إلى فئة التقنية.\",\n",
        "    \"النص يعبر عن محتوى ديني.\"\n",
        "]\n",
        "predictions = [\n",
        "    \"النص ينتمي إلى فئة التقنية.\",\n",
        "    \"النص يصف محتوى ديني.\"\n",
        "]\n",
        "\n",
        "# Compute BERTScore\n",
        "P, R, F1 = score(predictions, ground_truths, lang=\"ar\")\n",
        "\n",
        "# Print BERTScore metrics\n",
        "print(f\"BERTScore Precision: {P.mean().item()}\")\n",
        "print(f\"BERTScore Recall: {R.mean().item()}\")\n",
        "print(f\"BERTScore F1: {F1.mean().item()}\")"
      ],
      "metadata": {
        "trusted": true,
        "execution": {
          "iopub.status.busy": "2024-12-23T06:11:52.341525Z",
          "iopub.execute_input": "2024-12-23T06:11:52.341859Z",
          "iopub.status.idle": "2024-12-23T06:11:53.128318Z",
          "shell.execute_reply.started": "2024-12-23T06:11:52.341832Z",
          "shell.execute_reply": "2024-12-23T06:11:53.127565Z"
        },
        "id": "1413282b-3812-49dd-9cad-129d6218c766",
        "outputId": "022f918e-7bfd-495c-a797-20ae331afaaf"
      },
      "outputs": [
        {
          "name": "stderr",
          "text": "/usr/local/lib/python3.10/dist-packages/transformers/tokenization_utils_base.py:1601: FutureWarning: `clean_up_tokenization_spaces` was not set. It will be set to `True` by default. This behavior will be depracted in transformers v4.45, and will be then set to `False` by default. For more details check this issue: https://github.com/huggingface/transformers/issues/31884\n  warnings.warn(\n",
          "output_type": "stream"
        },
        {
          "name": "stdout",
          "text": "BERTScore Precision: 0.9496220350265503\nBERTScore Recall: 0.9257489442825317\nBERTScore F1: 0.937519907951355\n",
          "output_type": "stream"
        }
      ],
      "execution_count": null
    }
  ]
}